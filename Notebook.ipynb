{
 "cells": [
  {
   "cell_type": "markdown",
   "metadata": {},
   "source": [
    "# By Aryan Agarwal \n",
    "## Flipr 6.0 Hackathon\n",
    "## 14 September 2020"
   ]
  },
  {
   "cell_type": "code",
   "execution_count": 1,
   "metadata": {},
   "outputs": [],
   "source": [
    "import pandas as pd\n",
    "import numpy as np\n",
    "import matplotlib.pyplot as plt"
   ]
  },
  {
   "cell_type": "code",
   "execution_count": 2,
   "metadata": {},
   "outputs": [],
   "source": [
    "train_temp = pd.read_excel('Train_dataset.xlsx')\n",
    "test_temp = pd.read_excel('Test_dataset.xlsx',sheet_name= 'Test_data')"
   ]
  },
  {
   "cell_type": "code",
   "execution_count": 3,
   "metadata": {},
   "outputs": [],
   "source": [
    "train_temp = train_temp[train_temp['Covid Cases']<=100000]"
   ]
  },
  {
   "cell_type": "code",
   "execution_count": 4,
   "metadata": {},
   "outputs": [
    {
     "data": {
      "text/html": [
       "<div>\n",
       "<style scoped>\n",
       "    .dataframe tbody tr th:only-of-type {\n",
       "        vertical-align: middle;\n",
       "    }\n",
       "\n",
       "    .dataframe tbody tr th {\n",
       "        vertical-align: top;\n",
       "    }\n",
       "\n",
       "    .dataframe thead th {\n",
       "        text-align: right;\n",
       "    }\n",
       "</style>\n",
       "<table border=\"1\" class=\"dataframe\">\n",
       "  <thead>\n",
       "    <tr style=\"text-align: right;\">\n",
       "      <th></th>\n",
       "      <th>Population [2011]</th>\n",
       "      <th>Popuation [2001]</th>\n",
       "      <th>Sex Ratio</th>\n",
       "      <th>Median Age</th>\n",
       "      <th>Avg Temp</th>\n",
       "      <th>Toilets Avl</th>\n",
       "      <th>Water Purity</th>\n",
       "      <th>H Index</th>\n",
       "      <th>Female Population</th>\n",
       "      <th># of hospitals</th>\n",
       "      <th>Foreign Visitors</th>\n",
       "      <th>Covid Cases</th>\n",
       "    </tr>\n",
       "  </thead>\n",
       "  <tbody>\n",
       "    <tr>\n",
       "      <th>count</th>\n",
       "      <td>7.330000e+02</td>\n",
       "      <td>2.900000e+02</td>\n",
       "      <td>772.000000</td>\n",
       "      <td>764.000000</td>\n",
       "      <td>764.000000</td>\n",
       "      <td>756.000000</td>\n",
       "      <td>624.000000</td>\n",
       "      <td>641.000000</td>\n",
       "      <td>6.400000e+02</td>\n",
       "      <td>766.000000</td>\n",
       "      <td>6.910000e+02</td>\n",
       "      <td>781.000000</td>\n",
       "    </tr>\n",
       "    <tr>\n",
       "      <th>mean</th>\n",
       "      <td>2.648385e+05</td>\n",
       "      <td>4.569961e+05</td>\n",
       "      <td>905.739637</td>\n",
       "      <td>26.181937</td>\n",
       "      <td>30.934555</td>\n",
       "      <td>95.525132</td>\n",
       "      <td>150.285256</td>\n",
       "      <td>0.497663</td>\n",
       "      <td>2.442750e+05</td>\n",
       "      <td>41.467363</td>\n",
       "      <td>1.436983e+06</td>\n",
       "      <td>5431.359795</td>\n",
       "    </tr>\n",
       "    <tr>\n",
       "      <th>std</th>\n",
       "      <td>6.594810e+05</td>\n",
       "      <td>7.653591e+05</td>\n",
       "      <td>37.094765</td>\n",
       "      <td>2.113339</td>\n",
       "      <td>6.991544</td>\n",
       "      <td>29.652391</td>\n",
       "      <td>29.008086</td>\n",
       "      <td>0.293673</td>\n",
       "      <td>6.115566e+05</td>\n",
       "      <td>28.667412</td>\n",
       "      <td>1.650461e+06</td>\n",
       "      <td>6349.045325</td>\n",
       "    </tr>\n",
       "    <tr>\n",
       "      <th>min</th>\n",
       "      <td>3.677600e+04</td>\n",
       "      <td>2.935400e+04</td>\n",
       "      <td>818.000000</td>\n",
       "      <td>23.000000</td>\n",
       "      <td>5.000000</td>\n",
       "      <td>50.000000</td>\n",
       "      <td>100.000000</td>\n",
       "      <td>0.003074</td>\n",
       "      <td>3.091300e+04</td>\n",
       "      <td>10.000000</td>\n",
       "      <td>7.980000e+02</td>\n",
       "      <td>334.000000</td>\n",
       "    </tr>\n",
       "    <tr>\n",
       "      <th>25%</th>\n",
       "      <td>5.239400e+04</td>\n",
       "      <td>1.688478e+05</td>\n",
       "      <td>877.000000</td>\n",
       "      <td>24.000000</td>\n",
       "      <td>28.000000</td>\n",
       "      <td>70.000000</td>\n",
       "      <td>125.000000</td>\n",
       "      <td>0.239105</td>\n",
       "      <td>4.502175e+04</td>\n",
       "      <td>18.000000</td>\n",
       "      <td>2.378540e+05</td>\n",
       "      <td>2270.000000</td>\n",
       "    </tr>\n",
       "    <tr>\n",
       "      <th>50%</th>\n",
       "      <td>7.862400e+04</td>\n",
       "      <td>2.323250e+05</td>\n",
       "      <td>906.000000</td>\n",
       "      <td>26.000000</td>\n",
       "      <td>31.000000</td>\n",
       "      <td>92.000000</td>\n",
       "      <td>150.000000</td>\n",
       "      <td>0.507004</td>\n",
       "      <td>8.229350e+04</td>\n",
       "      <td>27.000000</td>\n",
       "      <td>6.365020e+05</td>\n",
       "      <td>2581.000000</td>\n",
       "    </tr>\n",
       "    <tr>\n",
       "      <th>75%</th>\n",
       "      <td>2.299560e+05</td>\n",
       "      <td>4.526950e+05</td>\n",
       "      <td>928.000000</td>\n",
       "      <td>28.000000</td>\n",
       "      <td>36.000000</td>\n",
       "      <td>118.000000</td>\n",
       "      <td>175.250000</td>\n",
       "      <td>0.753154</td>\n",
       "      <td>2.174088e+05</td>\n",
       "      <td>66.750000</td>\n",
       "      <td>3.104060e+06</td>\n",
       "      <td>8677.000000</td>\n",
       "    </tr>\n",
       "    <tr>\n",
       "      <th>max</th>\n",
       "      <td>1.100784e+07</td>\n",
       "      <td>9.879172e+06</td>\n",
       "      <td>1042.000000</td>\n",
       "      <td>32.000000</td>\n",
       "      <td>40.000000</td>\n",
       "      <td>227.000000</td>\n",
       "      <td>200.000000</td>\n",
       "      <td>0.999774</td>\n",
       "      <td>9.444722e+06</td>\n",
       "      <td>148.000000</td>\n",
       "      <td>4.684707e+06</td>\n",
       "      <td>80188.000000</td>\n",
       "    </tr>\n",
       "  </tbody>\n",
       "</table>\n",
       "</div>"
      ],
      "text/plain": [
       "       Population [2011]  Popuation [2001]    Sex Ratio  Median Age  \\\n",
       "count       7.330000e+02      2.900000e+02   772.000000  764.000000   \n",
       "mean        2.648385e+05      4.569961e+05   905.739637   26.181937   \n",
       "std         6.594810e+05      7.653591e+05    37.094765    2.113339   \n",
       "min         3.677600e+04      2.935400e+04   818.000000   23.000000   \n",
       "25%         5.239400e+04      1.688478e+05   877.000000   24.000000   \n",
       "50%         7.862400e+04      2.323250e+05   906.000000   26.000000   \n",
       "75%         2.299560e+05      4.526950e+05   928.000000   28.000000   \n",
       "max         1.100784e+07      9.879172e+06  1042.000000   32.000000   \n",
       "\n",
       "         Avg Temp  Toilets Avl  Water Purity     H Index  Female Population  \\\n",
       "count  764.000000   756.000000    624.000000  641.000000       6.400000e+02   \n",
       "mean    30.934555    95.525132    150.285256    0.497663       2.442750e+05   \n",
       "std      6.991544    29.652391     29.008086    0.293673       6.115566e+05   \n",
       "min      5.000000    50.000000    100.000000    0.003074       3.091300e+04   \n",
       "25%     28.000000    70.000000    125.000000    0.239105       4.502175e+04   \n",
       "50%     31.000000    92.000000    150.000000    0.507004       8.229350e+04   \n",
       "75%     36.000000   118.000000    175.250000    0.753154       2.174088e+05   \n",
       "max     40.000000   227.000000    200.000000    0.999774       9.444722e+06   \n",
       "\n",
       "       # of hospitals  Foreign Visitors   Covid Cases  \n",
       "count      766.000000      6.910000e+02    781.000000  \n",
       "mean        41.467363      1.436983e+06   5431.359795  \n",
       "std         28.667412      1.650461e+06   6349.045325  \n",
       "min         10.000000      7.980000e+02    334.000000  \n",
       "25%         18.000000      2.378540e+05   2270.000000  \n",
       "50%         27.000000      6.365020e+05   2581.000000  \n",
       "75%         66.750000      3.104060e+06   8677.000000  \n",
       "max        148.000000      4.684707e+06  80188.000000  "
      ]
     },
     "execution_count": 4,
     "metadata": {},
     "output_type": "execute_result"
    }
   ],
   "source": [
    "train_temp.describe()"
   ]
  },
  {
   "cell_type": "code",
   "execution_count": 5,
   "metadata": {},
   "outputs": [
    {
     "data": {
      "text/html": [
       "<div>\n",
       "<style scoped>\n",
       "    .dataframe tbody tr th:only-of-type {\n",
       "        vertical-align: middle;\n",
       "    }\n",
       "\n",
       "    .dataframe tbody tr th {\n",
       "        vertical-align: top;\n",
       "    }\n",
       "\n",
       "    .dataframe thead th {\n",
       "        text-align: right;\n",
       "    }\n",
       "</style>\n",
       "<table border=\"1\" class=\"dataframe\">\n",
       "  <thead>\n",
       "    <tr style=\"text-align: right;\">\n",
       "      <th></th>\n",
       "      <th>Population [2011]</th>\n",
       "      <th>Popuation [2001]</th>\n",
       "      <th>Sex Ratio</th>\n",
       "      <th>Median Age</th>\n",
       "      <th>Avg Temp</th>\n",
       "      <th>Toilets Avl</th>\n",
       "      <th>Water Purity</th>\n",
       "      <th>H Index</th>\n",
       "      <th>Female Population</th>\n",
       "      <th># of hospitals</th>\n",
       "      <th>Foreign Visitors</th>\n",
       "    </tr>\n",
       "  </thead>\n",
       "  <tbody>\n",
       "    <tr>\n",
       "      <th>count</th>\n",
       "      <td>495.000000</td>\n",
       "      <td>0.0</td>\n",
       "      <td>496.000000</td>\n",
       "      <td>488.000000</td>\n",
       "      <td>487.000000</td>\n",
       "      <td>479.000000</td>\n",
       "      <td>482.000000</td>\n",
       "      <td>486.000000</td>\n",
       "      <td>486.000000</td>\n",
       "      <td>484.000000</td>\n",
       "      <td>4.840000e+02</td>\n",
       "    </tr>\n",
       "    <tr>\n",
       "      <th>mean</th>\n",
       "      <td>24747.468687</td>\n",
       "      <td>NaN</td>\n",
       "      <td>895.508065</td>\n",
       "      <td>26.120902</td>\n",
       "      <td>29.100616</td>\n",
       "      <td>72.277662</td>\n",
       "      <td>151.358921</td>\n",
       "      <td>0.501042</td>\n",
       "      <td>22542.633745</td>\n",
       "      <td>19.173554</td>\n",
       "      <td>1.676301e+06</td>\n",
       "    </tr>\n",
       "    <tr>\n",
       "      <th>std</th>\n",
       "      <td>7813.067500</td>\n",
       "      <td>NaN</td>\n",
       "      <td>38.464150</td>\n",
       "      <td>2.145559</td>\n",
       "      <td>9.295788</td>\n",
       "      <td>20.799002</td>\n",
       "      <td>28.719191</td>\n",
       "      <td>0.284300</td>\n",
       "      <td>6931.232314</td>\n",
       "      <td>6.697149</td>\n",
       "      <td>1.704860e+06</td>\n",
       "    </tr>\n",
       "    <tr>\n",
       "      <th>min</th>\n",
       "      <td>110.000000</td>\n",
       "      <td>NaN</td>\n",
       "      <td>774.000000</td>\n",
       "      <td>23.000000</td>\n",
       "      <td>5.000000</td>\n",
       "      <td>10.000000</td>\n",
       "      <td>100.000000</td>\n",
       "      <td>0.000957</td>\n",
       "      <td>0.000000</td>\n",
       "      <td>3.000000</td>\n",
       "      <td>7.980000e+02</td>\n",
       "    </tr>\n",
       "    <tr>\n",
       "      <th>25%</th>\n",
       "      <td>21435.000000</td>\n",
       "      <td>NaN</td>\n",
       "      <td>867.750000</td>\n",
       "      <td>24.000000</td>\n",
       "      <td>26.000000</td>\n",
       "      <td>61.000000</td>\n",
       "      <td>127.000000</td>\n",
       "      <td>0.266619</td>\n",
       "      <td>19449.750000</td>\n",
       "      <td>14.000000</td>\n",
       "      <td>2.849730e+05</td>\n",
       "    </tr>\n",
       "    <tr>\n",
       "      <th>50%</th>\n",
       "      <td>25199.000000</td>\n",
       "      <td>NaN</td>\n",
       "      <td>890.500000</td>\n",
       "      <td>26.000000</td>\n",
       "      <td>31.000000</td>\n",
       "      <td>74.000000</td>\n",
       "      <td>152.000000</td>\n",
       "      <td>0.508218</td>\n",
       "      <td>22998.500000</td>\n",
       "      <td>20.000000</td>\n",
       "      <td>9.237370e+05</td>\n",
       "    </tr>\n",
       "    <tr>\n",
       "      <th>75%</th>\n",
       "      <td>30763.000000</td>\n",
       "      <td>NaN</td>\n",
       "      <td>922.000000</td>\n",
       "      <td>28.000000</td>\n",
       "      <td>36.000000</td>\n",
       "      <td>90.000000</td>\n",
       "      <td>175.000000</td>\n",
       "      <td>0.737776</td>\n",
       "      <td>27701.750000</td>\n",
       "      <td>25.000000</td>\n",
       "      <td>3.104060e+06</td>\n",
       "    </tr>\n",
       "    <tr>\n",
       "      <th>max</th>\n",
       "      <td>36774.000000</td>\n",
       "      <td>NaN</td>\n",
       "      <td>991.000000</td>\n",
       "      <td>32.000000</td>\n",
       "      <td>40.000000</td>\n",
       "      <td>100.000000</td>\n",
       "      <td>200.000000</td>\n",
       "      <td>0.999901</td>\n",
       "      <td>34523.000000</td>\n",
       "      <td>30.000000</td>\n",
       "      <td>4.684707e+06</td>\n",
       "    </tr>\n",
       "  </tbody>\n",
       "</table>\n",
       "</div>"
      ],
      "text/plain": [
       "       Population [2011]  Popuation [2001]   Sex Ratio  Median Age  \\\n",
       "count         495.000000               0.0  496.000000  488.000000   \n",
       "mean        24747.468687               NaN  895.508065   26.120902   \n",
       "std          7813.067500               NaN   38.464150    2.145559   \n",
       "min           110.000000               NaN  774.000000   23.000000   \n",
       "25%         21435.000000               NaN  867.750000   24.000000   \n",
       "50%         25199.000000               NaN  890.500000   26.000000   \n",
       "75%         30763.000000               NaN  922.000000   28.000000   \n",
       "max         36774.000000               NaN  991.000000   32.000000   \n",
       "\n",
       "         Avg Temp  Toilets Avl  Water Purity     H Index  Female Population  \\\n",
       "count  487.000000   479.000000    482.000000  486.000000         486.000000   \n",
       "mean    29.100616    72.277662    151.358921    0.501042       22542.633745   \n",
       "std      9.295788    20.799002     28.719191    0.284300        6931.232314   \n",
       "min      5.000000    10.000000    100.000000    0.000957           0.000000   \n",
       "25%     26.000000    61.000000    127.000000    0.266619       19449.750000   \n",
       "50%     31.000000    74.000000    152.000000    0.508218       22998.500000   \n",
       "75%     36.000000    90.000000    175.000000    0.737776       27701.750000   \n",
       "max     40.000000   100.000000    200.000000    0.999901       34523.000000   \n",
       "\n",
       "       # of hospitals  Foreign Visitors  \n",
       "count      484.000000      4.840000e+02  \n",
       "mean        19.173554      1.676301e+06  \n",
       "std          6.697149      1.704860e+06  \n",
       "min          3.000000      7.980000e+02  \n",
       "25%         14.000000      2.849730e+05  \n",
       "50%         20.000000      9.237370e+05  \n",
       "75%         25.000000      3.104060e+06  \n",
       "max         30.000000      4.684707e+06  "
      ]
     },
     "execution_count": 5,
     "metadata": {},
     "output_type": "execute_result"
    }
   ],
   "source": [
    "test_temp.describe()"
   ]
  },
  {
   "cell_type": "code",
   "execution_count": 6,
   "metadata": {},
   "outputs": [
    {
     "data": {
      "text/html": [
       "<div>\n",
       "<style scoped>\n",
       "    .dataframe tbody tr th:only-of-type {\n",
       "        vertical-align: middle;\n",
       "    }\n",
       "\n",
       "    .dataframe tbody tr th {\n",
       "        vertical-align: top;\n",
       "    }\n",
       "\n",
       "    .dataframe thead th {\n",
       "        text-align: right;\n",
       "    }\n",
       "</style>\n",
       "<table border=\"1\" class=\"dataframe\">\n",
       "  <thead>\n",
       "    <tr style=\"text-align: right;\">\n",
       "      <th></th>\n",
       "      <th>City</th>\n",
       "      <th>State</th>\n",
       "      <th>Type</th>\n",
       "      <th>Population [2011]</th>\n",
       "      <th>Popuation [2001]</th>\n",
       "      <th>Sex Ratio</th>\n",
       "      <th>Median Age</th>\n",
       "      <th>Avg Temp</th>\n",
       "      <th>SWM</th>\n",
       "      <th>Toilets Avl</th>\n",
       "      <th>Water Purity</th>\n",
       "      <th>H Index</th>\n",
       "      <th>Female Population</th>\n",
       "      <th># of hospitals</th>\n",
       "      <th>Foreign Visitors</th>\n",
       "      <th>Covid Cases</th>\n",
       "    </tr>\n",
       "  </thead>\n",
       "  <tbody>\n",
       "    <tr>\n",
       "      <th>1</th>\n",
       "      <td>Delhi</td>\n",
       "      <td>Delhi</td>\n",
       "      <td>M.C</td>\n",
       "      <td>11007835.0</td>\n",
       "      <td>9879172.0</td>\n",
       "      <td>858.0</td>\n",
       "      <td>27.0</td>\n",
       "      <td>30.0</td>\n",
       "      <td>MEDIUM</td>\n",
       "      <td>215.0</td>\n",
       "      <td>196.0</td>\n",
       "      <td>0.920018</td>\n",
       "      <td>9444722.0</td>\n",
       "      <td>148.0</td>\n",
       "      <td>2379169.0</td>\n",
       "      <td>80188</td>\n",
       "    </tr>\n",
       "    <tr>\n",
       "      <th>3</th>\n",
       "      <td>Hyderabad</td>\n",
       "      <td>Telangana</td>\n",
       "      <td>MPUA</td>\n",
       "      <td>6809970.0</td>\n",
       "      <td>3637483.0</td>\n",
       "      <td>930.0</td>\n",
       "      <td>23.0</td>\n",
       "      <td>31.0</td>\n",
       "      <td>MEDIUM</td>\n",
       "      <td>217.0</td>\n",
       "      <td>118.0</td>\n",
       "      <td>0.827744</td>\n",
       "      <td>6333272.0</td>\n",
       "      <td>110.0</td>\n",
       "      <td>126078.0</td>\n",
       "      <td>55123</td>\n",
       "    </tr>\n",
       "    <tr>\n",
       "      <th>4</th>\n",
       "      <td>Ahmedabad</td>\n",
       "      <td>Gujarat</td>\n",
       "      <td>MPUA</td>\n",
       "      <td>5570585.0</td>\n",
       "      <td>3520085.0</td>\n",
       "      <td>852.0</td>\n",
       "      <td>29.0</td>\n",
       "      <td>25.0</td>\n",
       "      <td>LOW</td>\n",
       "      <td>227.0</td>\n",
       "      <td>109.0</td>\n",
       "      <td>0.847941</td>\n",
       "      <td>4746138.0</td>\n",
       "      <td>73.0</td>\n",
       "      <td>284973.0</td>\n",
       "      <td>33204</td>\n",
       "    </tr>\n",
       "    <tr>\n",
       "      <th>7</th>\n",
       "      <td>Kolkata</td>\n",
       "      <td>West Bengal</td>\n",
       "      <td>MPUA</td>\n",
       "      <td>4486679.0</td>\n",
       "      <td>4572876.0</td>\n",
       "      <td>945.0</td>\n",
       "      <td>26.0</td>\n",
       "      <td>37.0</td>\n",
       "      <td>NaN</td>\n",
       "      <td>NaN</td>\n",
       "      <td>NaN</td>\n",
       "      <td>0.473585</td>\n",
       "      <td>4239912.0</td>\n",
       "      <td>82.0</td>\n",
       "      <td>1489500.0</td>\n",
       "      <td>44957</td>\n",
       "    </tr>\n",
       "    <tr>\n",
       "      <th>8</th>\n",
       "      <td>Surat</td>\n",
       "      <td>Gujarat</td>\n",
       "      <td>MPUA</td>\n",
       "      <td>4467797.0</td>\n",
       "      <td>2433835.0</td>\n",
       "      <td>NaN</td>\n",
       "      <td>27.0</td>\n",
       "      <td>26.0</td>\n",
       "      <td>NaN</td>\n",
       "      <td>NaN</td>\n",
       "      <td>NaN</td>\n",
       "      <td>0.809334</td>\n",
       "      <td>3797627.0</td>\n",
       "      <td>98.0</td>\n",
       "      <td>284973.0</td>\n",
       "      <td>23432</td>\n",
       "    </tr>\n",
       "  </tbody>\n",
       "</table>\n",
       "</div>"
      ],
      "text/plain": [
       "        City        State  Type  Population [2011]  Popuation [2001]  \\\n",
       "1      Delhi        Delhi   M.C         11007835.0         9879172.0   \n",
       "3  Hyderabad    Telangana  MPUA          6809970.0         3637483.0   \n",
       "4  Ahmedabad      Gujarat  MPUA          5570585.0         3520085.0   \n",
       "7    Kolkata  West Bengal  MPUA          4486679.0         4572876.0   \n",
       "8      Surat      Gujarat  MPUA          4467797.0         2433835.0   \n",
       "\n",
       "   Sex Ratio  Median Age  Avg Temp     SWM  Toilets Avl  Water Purity  \\\n",
       "1      858.0        27.0      30.0  MEDIUM        215.0         196.0   \n",
       "3      930.0        23.0      31.0  MEDIUM        217.0         118.0   \n",
       "4      852.0        29.0      25.0     LOW        227.0         109.0   \n",
       "7      945.0        26.0      37.0     NaN          NaN           NaN   \n",
       "8        NaN        27.0      26.0     NaN          NaN           NaN   \n",
       "\n",
       "    H Index  Female Population  # of hospitals  Foreign Visitors  Covid Cases  \n",
       "1  0.920018          9444722.0           148.0         2379169.0        80188  \n",
       "3  0.827744          6333272.0           110.0          126078.0        55123  \n",
       "4  0.847941          4746138.0            73.0          284973.0        33204  \n",
       "7  0.473585          4239912.0            82.0         1489500.0        44957  \n",
       "8  0.809334          3797627.0            98.0          284973.0        23432  "
      ]
     },
     "execution_count": 6,
     "metadata": {},
     "output_type": "execute_result"
    }
   ],
   "source": [
    "train_temp.head()"
   ]
  },
  {
   "cell_type": "code",
   "execution_count": 7,
   "metadata": {},
   "outputs": [
    {
     "data": {
      "text/html": [
       "<div>\n",
       "<style scoped>\n",
       "    .dataframe tbody tr th:only-of-type {\n",
       "        vertical-align: middle;\n",
       "    }\n",
       "\n",
       "    .dataframe tbody tr th {\n",
       "        vertical-align: top;\n",
       "    }\n",
       "\n",
       "    .dataframe thead th {\n",
       "        text-align: right;\n",
       "    }\n",
       "</style>\n",
       "<table border=\"1\" class=\"dataframe\">\n",
       "  <thead>\n",
       "    <tr style=\"text-align: right;\">\n",
       "      <th></th>\n",
       "      <th>City</th>\n",
       "      <th>State</th>\n",
       "      <th>Type</th>\n",
       "      <th>Population [2011]</th>\n",
       "      <th>Popuation [2001]</th>\n",
       "      <th>Sex Ratio</th>\n",
       "      <th>Median Age</th>\n",
       "      <th>Avg Temp</th>\n",
       "      <th>SWM</th>\n",
       "      <th>Toilets Avl</th>\n",
       "      <th>Water Purity</th>\n",
       "      <th>H Index</th>\n",
       "      <th>Female Population</th>\n",
       "      <th># of hospitals</th>\n",
       "      <th>Foreign Visitors</th>\n",
       "    </tr>\n",
       "  </thead>\n",
       "  <tbody>\n",
       "    <tr>\n",
       "      <th>0</th>\n",
       "      <td>Tuensang</td>\n",
       "      <td>Nagaland</td>\n",
       "      <td>T.C</td>\n",
       "      <td>36774.0</td>\n",
       "      <td>NaN</td>\n",
       "      <td>931.0</td>\n",
       "      <td>23.0</td>\n",
       "      <td>10.0</td>\n",
       "      <td>MEDIUM</td>\n",
       "      <td>94.0</td>\n",
       "      <td>114.0</td>\n",
       "      <td>0.253390</td>\n",
       "      <td>34237.0</td>\n",
       "      <td>17.0</td>\n",
       "      <td>2769.0</td>\n",
       "    </tr>\n",
       "    <tr>\n",
       "      <th>1</th>\n",
       "      <td>Lakshmeshwar</td>\n",
       "      <td>Karnataka</td>\n",
       "      <td>T.M.C</td>\n",
       "      <td>36754.0</td>\n",
       "      <td>NaN</td>\n",
       "      <td>934.0</td>\n",
       "      <td>25.0</td>\n",
       "      <td>38.0</td>\n",
       "      <td>HIGH</td>\n",
       "      <td>62.0</td>\n",
       "      <td>160.0</td>\n",
       "      <td>0.192555</td>\n",
       "      <td>34328.0</td>\n",
       "      <td>13.0</td>\n",
       "      <td>636502.0</td>\n",
       "    </tr>\n",
       "    <tr>\n",
       "      <th>2</th>\n",
       "      <td>Zira</td>\n",
       "      <td>Punjab</td>\n",
       "      <td>M.Cl.</td>\n",
       "      <td>36732.0</td>\n",
       "      <td>NaN</td>\n",
       "      <td>883.0</td>\n",
       "      <td>29.0</td>\n",
       "      <td>35.0</td>\n",
       "      <td>HIGH</td>\n",
       "      <td>63.0</td>\n",
       "      <td>105.0</td>\n",
       "      <td>0.887882</td>\n",
       "      <td>32434.0</td>\n",
       "      <td>17.0</td>\n",
       "      <td>242367.0</td>\n",
       "    </tr>\n",
       "    <tr>\n",
       "      <th>3</th>\n",
       "      <td>Yawal</td>\n",
       "      <td>Maharashtra</td>\n",
       "      <td>M.Cl</td>\n",
       "      <td>36706.0</td>\n",
       "      <td>NaN</td>\n",
       "      <td>887.0</td>\n",
       "      <td>26.0</td>\n",
       "      <td>31.0</td>\n",
       "      <td>HIGH</td>\n",
       "      <td>60.0</td>\n",
       "      <td>174.0</td>\n",
       "      <td>0.407838</td>\n",
       "      <td>32558.0</td>\n",
       "      <td>11.0</td>\n",
       "      <td>4408916.0</td>\n",
       "    </tr>\n",
       "    <tr>\n",
       "      <th>4</th>\n",
       "      <td>Thana Bhawan</td>\n",
       "      <td>Uttar Pradesh</td>\n",
       "      <td>N.P.</td>\n",
       "      <td>36669.0</td>\n",
       "      <td>NaN</td>\n",
       "      <td>877.0</td>\n",
       "      <td>28.0</td>\n",
       "      <td>39.0</td>\n",
       "      <td>LOW</td>\n",
       "      <td>92.0</td>\n",
       "      <td>153.0</td>\n",
       "      <td>0.324456</td>\n",
       "      <td>32159.0</td>\n",
       "      <td>23.0</td>\n",
       "      <td>3104060.0</td>\n",
       "    </tr>\n",
       "  </tbody>\n",
       "</table>\n",
       "</div>"
      ],
      "text/plain": [
       "           City          State   Type  Population [2011]  Popuation [2001]  \\\n",
       "0      Tuensang       Nagaland    T.C            36774.0               NaN   \n",
       "1  Lakshmeshwar      Karnataka  T.M.C            36754.0               NaN   \n",
       "2          Zira         Punjab  M.Cl.            36732.0               NaN   \n",
       "3         Yawal    Maharashtra   M.Cl            36706.0               NaN   \n",
       "4  Thana Bhawan  Uttar Pradesh   N.P.            36669.0               NaN   \n",
       "\n",
       "   Sex Ratio  Median Age  Avg Temp     SWM  Toilets Avl  Water Purity  \\\n",
       "0      931.0        23.0      10.0  MEDIUM         94.0         114.0   \n",
       "1      934.0        25.0      38.0    HIGH         62.0         160.0   \n",
       "2      883.0        29.0      35.0    HIGH         63.0         105.0   \n",
       "3      887.0        26.0      31.0    HIGH         60.0         174.0   \n",
       "4      877.0        28.0      39.0     LOW         92.0         153.0   \n",
       "\n",
       "    H Index  Female Population  # of hospitals  Foreign Visitors  \n",
       "0  0.253390            34237.0            17.0            2769.0  \n",
       "1  0.192555            34328.0            13.0          636502.0  \n",
       "2  0.887882            32434.0            17.0          242367.0  \n",
       "3  0.407838            32558.0            11.0         4408916.0  \n",
       "4  0.324456            32159.0            23.0         3104060.0  "
      ]
     },
     "execution_count": 7,
     "metadata": {},
     "output_type": "execute_result"
    }
   ],
   "source": [
    "test_temp.head()"
   ]
  },
  {
   "cell_type": "code",
   "execution_count": 8,
   "metadata": {},
   "outputs": [
    {
     "name": "stdout",
     "output_type": "stream",
     "text": [
      "Index(['City', 'State', 'Type', 'Population [2011]', 'Popuation [2001]',\n",
      "       'Sex Ratio', 'Median Age', 'Avg Temp', 'SWM', 'Toilets Avl',\n",
      "       'Water Purity', 'H Index', 'Female Population', '# of hospitals',\n",
      "       'Foreign Visitors', 'Covid Cases'],\n",
      "      dtype='object')\n"
     ]
    }
   ],
   "source": [
    "cols = train_temp.columns\n",
    "print(cols)"
   ]
  },
  {
   "cell_type": "code",
   "execution_count": 9,
   "metadata": {},
   "outputs": [],
   "source": [
    "cat_cols = ['Type','SWM']"
   ]
  },
  {
   "cell_type": "code",
   "execution_count": 10,
   "metadata": {},
   "outputs": [
    {
     "name": "stdout",
     "output_type": "stream",
     "text": [
      "----------Type--------\n",
      "C-1T              269\n",
      "M                 236\n",
      "M.Cl               59\n",
      "MPUA               40\n",
      "M.B                28\n",
      "UA                 28\n",
      "N.P.P              13\n",
      "T.M.C              13\n",
      "N.P                10\n",
      "C.T                 9\n",
      "M.Cl.               8\n",
      "C.M.C               7\n",
      "N.A.C               6\n",
      "M.C                 6\n",
      "N.P.P.              5\n",
      "T.P                 5\n",
      "CMC                 3\n",
      "C.B                 3\n",
      "NP                  3\n",
      "T.M.C.              3\n",
      "N.Pd                3\n",
      "C.T.                2\n",
      "N.A                 2\n",
      "NPP                 2\n",
      "M.Corp              2\n",
      "T.C                 2\n",
      "MB                  2\n",
      "M.B.                2\n",
      "N.P.                2\n",
      "T                   1\n",
      "U.A                 1\n",
      "T.P.                1\n",
      "M.Corp.             1\n",
      "M Cl                1\n",
      "N.T                 1\n",
      "Np                  1\n",
      "Nagar Parishad      1\n",
      "Name: Type, dtype: int64\n",
      "M         119\n",
      "N.P        86\n",
      "M.Cl       61\n",
      "T.P        42\n",
      "C.T        41\n",
      "T.M.C      22\n",
      "N.P.P      19\n",
      "N.A        19\n",
      "M.B        16\n",
      "UA          8\n",
      "M.C         8\n",
      "C.T.        7\n",
      "T.C         6\n",
      "M.Cl.       6\n",
      "N.P.        6\n",
      "T.M.C.      5\n",
      "N.P.P.      4\n",
      "T.P.        4\n",
      "N.A.C       3\n",
      "G.P         3\n",
      "N.T         2\n",
      "M.C.        2\n",
      "M.B.        1\n",
      "N.A.C.      1\n",
      "NP          1\n",
      "G.P.        1\n",
      "NAC         1\n",
      "CT          1\n",
      "T.C.        1\n",
      "TP          1\n",
      "M&F         1\n",
      "I.N.A       1\n",
      "Name: Type, dtype: int64\n",
      "----------SWM---------\n",
      "train:  HIGH      270\n",
      "LOW       259\n",
      "MEDIUM    249\n",
      "Name: SWM, dtype: int64\n",
      "test:  LOW       179\n",
      "HIGH      158\n",
      "MEDIUM    155\n",
      "Name: SWM, dtype: int64\n"
     ]
    }
   ],
   "source": [
    "print('----------Type--------')\n",
    "# print('train: ',train_temp['Type'].unique())\n",
    "# print('test: ',test_temp['Type'].unique())\n",
    "print(train_temp['Type'].value_counts())\n",
    "print(test_temp['Type'].value_counts())\n",
    "print('----------SWM---------')\n",
    "# print('train: ',train_temp['SWM'].unique())\n",
    "# print('test: ',test_temp['SWM'].unique())\n",
    "print('train: ',train_temp['SWM'].value_counts())\n",
    "print('test: ',test_temp['SWM'].value_counts())"
   ]
  },
  {
   "cell_type": "code",
   "execution_count": 11,
   "metadata": {},
   "outputs": [
    {
     "name": "stdout",
     "output_type": "stream",
     "text": [
      "T.C.\n",
      "I.N.A\n",
      "M.C.\n",
      "TP\n",
      "NAC\n",
      "G.P\n",
      "M&F\n",
      "nan\n",
      "CT\n",
      "G.P.\n",
      "N.A.C.\n",
      "#########\n",
      "MPUA\n",
      "C-1T\n",
      "M.Corp\n",
      "N.Pd\n",
      "CMC\n",
      "C.M.C\n",
      "Nagar Parishad\n",
      "MB\n",
      "M Cl\n",
      "M.Corp.\n",
      "U.A\n",
      "T\n",
      "C.B\n",
      "NPP\n",
      "Np\n"
     ]
    }
   ],
   "source": [
    "tt1 = train_temp['Type'].unique()\n",
    "tt2 = test_temp['Type'].unique()\n",
    "for t in tt2:\n",
    "    if(t not in tt1):\n",
    "        print(t)\n",
    "print('#'*9)\n",
    "for t in tt1:\n",
    "    if(t not in tt2):\n",
    "        print(t)"
   ]
  },
  {
   "cell_type": "markdown",
   "metadata": {},
   "source": [
    "### Conclusion: 'Type' column is not useful for our training"
   ]
  },
  {
   "cell_type": "code",
   "execution_count": 12,
   "metadata": {},
   "outputs": [
    {
     "name": "stdout",
     "output_type": "stream",
     "text": [
      "781\n",
      "35 35\n"
     ]
    }
   ],
   "source": [
    "x= train_temp.iloc[:,[3,4]].values\n",
    "print(len(x))\n",
    "c1 =0\n",
    "c2 = 0\n",
    "for p in x:\n",
    "    z = np.isnan(p)\n",
    "    if(z[0]==z[1]):\n",
    "        continue\n",
    "    if(z[0]):\n",
    "        p[0] = p[1]*1.6\n",
    "    if(z[1]):\n",
    "        p[1] = p[0]/1.6\n",
    "i = 0\n",
    "l = []\n",
    "p11 = []\n",
    "p01 = []\n",
    "for p in x:\n",
    "    i = i+1\n",
    "    z = np.isnan(p)\n",
    "    p11.append(p[0])\n",
    "    p01.append(p[1])\n",
    "    if(z[0]==z[1] and z[0]==False):\n",
    "        continue\n",
    "#     print(p,z)\n",
    "    l.append(i-1)\n",
    "    \n",
    "    if(z[0]):\n",
    "        c1 = c1+1\n",
    "    if(z[1]):\n",
    "        c2 = c2+1\n",
    "print(c1,c2)\n",
    "train_temp['Population [2011]'] = p11\n",
    "train_temp['Popuation [2001]'] = p01"
   ]
  },
  {
   "cell_type": "markdown",
   "metadata": {},
   "source": [
    "- Removing 'Type' attrubute because the training data and testing data is not consistent.\n",
    "- Most frequent Types , i.e., MPUA and C-1t ,are not available in the Test_Dataset.\n",
    "- Similarly 'Popuayion [2001]' is empty in Test_dataset, so it is irrelevent for our model Training."
   ]
  },
  {
   "cell_type": "code",
   "execution_count": 13,
   "metadata": {},
   "outputs": [],
   "source": [
    "train_temp = train_temp.drop(['Type','Popuation [2001]'], axis=1)\n",
    "test_temp = test_temp.drop(['Type','Popuation [2001]'], axis=1)"
   ]
  },
  {
   "cell_type": "code",
   "execution_count": 14,
   "metadata": {},
   "outputs": [
    {
     "data": {
      "text/plain": [
       "City                   0\n",
       "State                  0\n",
       "Population [2011]     35\n",
       "Sex Ratio              9\n",
       "Median Age            17\n",
       "Avg Temp              17\n",
       "SWM                    3\n",
       "Toilets Avl           25\n",
       "Water Purity         157\n",
       "H Index              140\n",
       "Female Population    141\n",
       "# of hospitals        15\n",
       "Foreign Visitors      90\n",
       "Covid Cases            0\n",
       "dtype: int64"
      ]
     },
     "execution_count": 14,
     "metadata": {},
     "output_type": "execute_result"
    }
   ],
   "source": [
    "train_temp.isna().sum()"
   ]
  },
  {
   "cell_type": "code",
   "execution_count": 15,
   "metadata": {},
   "outputs": [
    {
     "data": {
      "text/plain": [
       "City                  0\n",
       "State                 0\n",
       "Population [2011]     6\n",
       "Sex Ratio             5\n",
       "Median Age           13\n",
       "Avg Temp             14\n",
       "SWM                   9\n",
       "Toilets Avl          22\n",
       "Water Purity         19\n",
       "H Index              15\n",
       "Female Population    15\n",
       "# of hospitals       17\n",
       "Foreign Visitors     17\n",
       "dtype: int64"
      ]
     },
     "execution_count": 15,
     "metadata": {},
     "output_type": "execute_result"
    }
   ],
   "source": [
    "test_temp.isna().sum()"
   ]
  },
  {
   "cell_type": "markdown",
   "metadata": {},
   "source": [
    "Now lets handle the null values in all the columns(except SWM ) by replacing them with average"
   ]
  },
  {
   "cell_type": "code",
   "execution_count": 16,
   "metadata": {},
   "outputs": [
    {
     "name": "stdout",
     "output_type": "stream",
     "text": [
      "City                 0\n",
      "State                0\n",
      "Population [2011]    0\n",
      "Sex Ratio            0\n",
      "Median Age           0\n",
      "Avg Temp             0\n",
      "SWM                  0\n",
      "Toilets Avl          0\n",
      "Water Purity         0\n",
      "H Index              0\n",
      "Female Population    0\n",
      "# of hospitals       0\n",
      "Foreign Visitors     0\n",
      "Covid Cases          0\n",
      "dtype: int64\n",
      "##########\n",
      "City                 0\n",
      "State                0\n",
      "Population [2011]    0\n",
      "Sex Ratio            0\n",
      "Median Age           0\n",
      "Avg Temp             0\n",
      "SWM                  0\n",
      "Toilets Avl          0\n",
      "Water Purity         0\n",
      "H Index              0\n",
      "Female Population    0\n",
      "# of hospitals       0\n",
      "Foreign Visitors     0\n",
      "dtype: int64\n"
     ]
    }
   ],
   "source": [
    "avg_cols = [ 'Population [2011]', \n",
    "       'Sex Ratio', 'Median Age', 'Avg Temp', 'Toilets Avl',\n",
    "       'Water Purity', 'H Index', 'Female Population', '# of hospitals',\n",
    "       'Foreign Visitors']\n",
    "mode_cols = ['SWM']\n",
    "for c in avg_cols:\n",
    "    train_temp[c]= train_temp[c].fillna(train_temp.mean()[c])\n",
    "    test_temp[c]= test_temp[c].fillna(train_temp.mean()[c])\n",
    "\n",
    "train_temp['SWM']= train_temp['SWM'].fillna('HIGH')\n",
    "test_temp['SWM']= test_temp['SWM'].fillna('HIGH')\n",
    "print(train_temp.isna().sum())\n",
    "print('#'*10)\n",
    "print(test_temp.isna().sum())"
   ]
  },
  {
   "cell_type": "code",
   "execution_count": 17,
   "metadata": {},
   "outputs": [],
   "source": [
    "X = train_temp.iloc[:,:-1].values\n",
    "Y = train_temp.iloc[:,-1].values\n",
    "Xtest = test_temp.iloc[:,:].values"
   ]
  },
  {
   "cell_type": "code",
   "execution_count": 18,
   "metadata": {},
   "outputs": [
    {
     "data": {
      "text/plain": [
       "Index(['City', 'State', 'Population [2011]', 'Sex Ratio', 'Median Age',\n",
       "       'Avg Temp', 'SWM', 'Toilets Avl', 'Water Purity', 'H Index',\n",
       "       'Female Population', '# of hospitals', 'Foreign Visitors',\n",
       "       'Covid Cases'],\n",
       "      dtype='object')"
      ]
     },
     "execution_count": 18,
     "metadata": {},
     "output_type": "execute_result"
    }
   ],
   "source": [
    "train_temp.columns"
   ]
  },
  {
   "cell_type": "code",
   "execution_count": 19,
   "metadata": {},
   "outputs": [
    {
     "data": {
      "text/plain": [
       "Index(['City', 'State', 'Population [2011]', 'Sex Ratio', 'Median Age',\n",
       "       'Avg Temp', 'SWM', 'Toilets Avl', 'Water Purity', 'H Index',\n",
       "       'Female Population', '# of hospitals', 'Foreign Visitors'],\n",
       "      dtype='object')"
      ]
     },
     "execution_count": 19,
     "metadata": {},
     "output_type": "execute_result"
    }
   ],
   "source": [
    "test_temp.columns"
   ]
  },
  {
   "cell_type": "code",
   "execution_count": 20,
   "metadata": {},
   "outputs": [],
   "source": [
    "from sklearn.preprocessing import LabelEncoder,OneHotEncoder\n",
    "#Encoding multivalue attributes\n",
    "mul_cat_cols =[6]  # 'SWM'\n",
    "onehotencoder = OneHotEncoder(drop='first')\n",
    "t = onehotencoder.fit_transform(X[:,mul_cat_cols]).toarray()\n",
    "t2 = onehotencoder.transform(Xtest[:,mul_cat_cols]).toarray()"
   ]
  },
  {
   "cell_type": "code",
   "execution_count": 21,
   "metadata": {},
   "outputs": [
    {
     "name": "stdout",
     "output_type": "stream",
     "text": [
      "(781, 13) (501, 13)\n",
      "(781, 14) (501, 14)\n"
     ]
    }
   ],
   "source": [
    "print(X.shape,Xtest.shape)\n",
    "X = np.delete(X,mul_cat_cols,axis  = 1)\n",
    "X = np.append(X,t, axis=1)\n",
    "Xtest = np.delete(Xtest,mul_cat_cols,axis  = 1)\n",
    "Xtest = np.append(Xtest,t2, axis=1)\n",
    "print(X.shape,Xtest.shape)"
   ]
  },
  {
   "cell_type": "markdown",
   "metadata": {},
   "source": [
    "# Now we are ready for training some models"
   ]
  },
  {
   "cell_type": "markdown",
   "metadata": {},
   "source": [
    "### Some imports and functions for model Evaluation"
   ]
  },
  {
   "cell_type": "code",
   "execution_count": 22,
   "metadata": {},
   "outputs": [],
   "source": [
    "from sklearn.metrics import mean_absolute_error\n",
    "from sklearn.metrics import explained_variance_score\n",
    "from sklearn.metrics import mean_squared_error\n",
    "from sklearn.metrics import r2_score\n",
    "import math\n",
    "def scores(y_test, y_pred):\n",
    "    print('r2_score: ',r2_score(y_test, y_pred))\n",
    "    mse = mean_squared_error(y_test, y_pred)\n",
    "    rmse = math.sqrt(mse)\n",
    "    print('mean_squared_error: ',mse)\n",
    "    print('root_mean_squared_error: ',rmse)\n",
    "    print('explained_variance_score: ',explained_variance_score(y_test, y_pred))\n",
    "    print('mean_absolute_error: ',mean_absolute_error(y_test, y_pred))"
   ]
  },
  {
   "cell_type": "code",
   "execution_count": 23,
   "metadata": {},
   "outputs": [],
   "source": [
    "# For Saving predictions for our various models\n",
    "preds = {}"
   ]
  },
  {
   "cell_type": "code",
   "execution_count": 24,
   "metadata": {},
   "outputs": [],
   "source": [
    "#Splitting Data\n",
    "from sklearn.model_selection import train_test_split\n",
    "X_train, X_test, y_train, y_test = train_test_split(X[:,2:], Y, test_size = 0.20, random_state = 0)"
   ]
  },
  {
   "cell_type": "code",
   "execution_count": 25,
   "metadata": {},
   "outputs": [
    {
     "data": {
      "image/png": "[encoded data removed]",
      "text/plain": [
       "<Figure size 432x288 with 1 Axes>"
      ]
     },
     "metadata": {
      "needs_background": "light"
     },
     "output_type": "display_data"
    },
    {
     "name": "stdout",
     "output_type": "stream",
     "text": [
      "r2_score:  0.5980925536690938\n",
      "mean_squared_error:  19094330.39852833\n",
      "root_mean_squared_error:  4369.70598536427\n",
      "explained_variance_score:  0.5986369167489372\n",
      "mean_absolute_error:  1942.0251337579618\n"
     ]
    }
   ],
   "source": [
    "#Fitting Regressor\n",
    "model_name = 'Ran_for_w'\n",
    "from sklearn.ensemble import RandomForestRegressor\n",
    "regressor = RandomForestRegressor(n_estimators = 1000,random_state = 45)\n",
    "regressor.fit(X_train,y_train)\n",
    "# regressor.fit(X,y)\n",
    "# Predicting a new result\n",
    "y_pred = regressor.predict(X_test)\n",
    "plt.scatter(y_test,y_pred, color = 'blue')\n",
    "plt.title('Truth or Bluff (Random Forest Regression Model)')\n",
    "plt.xlabel('Real')\n",
    "plt.ylabel('Predicted')\n",
    "plt.show()\n",
    "scores(y_test, y_pred)\n",
    "preds[model_name] = [y_pred,y_test]"
   ]
  },
  {
   "cell_type": "code",
   "execution_count": 26,
   "metadata": {},
   "outputs": [
    {
     "data": {
      "image/png": "[encoded data removed]",
      "text/plain": [
       "<Figure size 432x288 with 1 Axes>"
      ]
     },
     "metadata": {
      "needs_background": "light"
     },
     "output_type": "display_data"
    },
    {
     "name": "stdout",
     "output_type": "stream",
     "text": [
      "r2_score:  0.6815001840377333\n",
      "mean_squared_error:  15131694.556479588\n",
      "root_mean_squared_error:  3889.947886087883\n",
      "explained_variance_score:  0.6824121541727179\n",
      "mean_absolute_error:  2282.9301919659747\n"
     ]
    }
   ],
   "source": [
    "model_name = 'Linear Regression_w'\n",
    "from sklearn.linear_model import LinearRegression\n",
    "regressor = LinearRegression()\n",
    "regressor.fit(X_train,y_train)\n",
    "\n",
    "y_pred = regressor.predict(X_test)\n",
    "\n",
    "plt.scatter(y_test,y_pred)\n",
    "plt.title('Truth or Bluff (Linear Regression)')\n",
    "plt.xlabel('Real')\n",
    "plt.ylabel('Predicted')\n",
    "plt.show()\n",
    "scores(y_test, y_pred)\n",
    "preds[model_name] = [y_pred,y_test]"
   ]
  },
  {
   "cell_type": "code",
   "execution_count": 27,
   "metadata": {},
   "outputs": [],
   "source": [
    "from sklearn.preprocessing import StandardScaler\n",
    "sc= StandardScaler()\n",
    "X_train = sc.fit_transform(X_train)\n",
    "X_test = sc.transform(X_test)\n",
    "# Xtest = sc.transform(Xtest)\n",
    "\n",
    "scy= StandardScaler()\n",
    "y_train = scy.fit_transform(y_train.reshape(-1, 1))\n",
    "y_test = scy.transform(y_test.reshape(-1, 1))"
   ]
  },
  {
   "cell_type": "code",
   "execution_count": 28,
   "metadata": {},
   "outputs": [
    {
     "name": "stderr",
     "output_type": "stream",
     "text": [
      "C:\\Users\\Arush\\Anaconda3\\envs\\tf_gpu\\lib\\site-packages\\sklearn\\utils\\validation.py:760: DataConversionWarning: A column-vector y was passed when a 1d array was expected. Please change the shape of y to (n_samples, ), for example using ravel().\n",
      "  y = column_or_1d(y, warn=True)\n"
     ]
    },
    {
     "data": {
      "image/png": "[encoded data removed]",
      "text/plain": [
       "<Figure size 432x288 with 1 Axes>"
      ]
     },
     "metadata": {
      "needs_background": "light"
     },
     "output_type": "display_data"
    },
    {
     "name": "stdout",
     "output_type": "stream",
     "text": [
      "r2_score:  0.3354303975133457\n",
      "mean_squared_error:  31573218.35796751\n",
      "root_mean_squared_error:  5619.005103927875\n",
      "explained_variance_score:  0.35096817399152525\n",
      "mean_absolute_error:  2500.9603103852123\n"
     ]
    }
   ],
   "source": [
    "#Fitting SVR\n",
    "model_name = 'SVR_w'\n",
    "from sklearn.svm import SVR\n",
    "regressor = SVR(kernel='rbf')\n",
    "#regressor.fit(X_train,y_train)\n",
    "regressor.fit(X_train ,y_train )\n",
    "# Predicting a new result\n",
    "y_pred = regressor.predict(X_test)\n",
    "plt.scatter(scy.inverse_transform(y_test),scy.inverse_transform(y_pred), color = 'blue')\n",
    "plt.title('Truth or Bluff (SVR)')\n",
    "plt.xlabel('Real')\n",
    "plt.ylabel('Predicted')\n",
    "plt.show()\n",
    "scores(scy.inverse_transform(y_test),scy.inverse_transform(y_pred))\n",
    "preds[model_name] = [scy.inverse_transform(y_pred),scy.inverse_transform(y_test)]"
   ]
  },
  {
   "cell_type": "markdown",
   "metadata": {},
   "source": [
    "# Now we are going to remove the last two columns corresponding to SWM which I think is not important according to my data analysis"
   ]
  },
  {
   "cell_type": "code",
   "execution_count": 29,
   "metadata": {},
   "outputs": [],
   "source": [
    "'''Linear Regressiom'''\n",
    "# Splitting the dataset into the Training set and Test set\n",
    "from sklearn.model_selection import train_test_split\n",
    "X_train, X_test, y_train, y_test = train_test_split(X[:,2:-2], Y, test_size = 0.2, random_state = 0)"
   ]
  },
  {
   "cell_type": "code",
   "execution_count": 30,
   "metadata": {},
   "outputs": [
    {
     "data": {
      "image/png": "[encoded data removed]",
      "text/plain": [
       "<Figure size 432x288 with 1 Axes>"
      ]
     },
     "metadata": {
      "needs_background": "light"
     },
     "output_type": "display_data"
    },
    {
     "name": "stdout",
     "output_type": "stream",
     "text": [
      "r2_score:  0.6848897344381077\n",
      "mean_squared_error:  14970659.482762827\n",
      "root_mean_squared_error:  3869.1936476173983\n",
      "explained_variance_score:  0.6856285131276418\n",
      "mean_absolute_error:  2211.1689400758805\n"
     ]
    }
   ],
   "source": [
    "model_name = 'Linear Regression_wo'\n",
    "from sklearn.linear_model import LinearRegression\n",
    "regressor = LinearRegression()\n",
    "regressor.fit(X_train,y_train)\n",
    "\n",
    "y_pred = regressor.predict(X_test)\n",
    "\n",
    "plt.scatter(y_test,y_pred)\n",
    "plt.title('Truth or Bluff (Linear Regression)')\n",
    "plt.xlabel('Real')\n",
    "plt.ylabel('Predicted')\n",
    "plt.show()\n",
    "scores(y_test, y_pred)\n",
    "preds[model_name] = [y_pred,y_test]"
   ]
  },
  {
   "cell_type": "code",
   "execution_count": 31,
   "metadata": {},
   "outputs": [
    {
     "data": {
      "image/png": "[encoded data removed]",
      "text/plain": [
       "<Figure size 432x288 with 1 Axes>"
      ]
     },
     "metadata": {
      "needs_background": "light"
     },
     "output_type": "display_data"
    },
    {
     "name": "stdout",
     "output_type": "stream",
     "text": [
      "r2_score:  0.5909883647084245\n",
      "mean_squared_error:  19431845.247946944\n",
      "root_mean_squared_error:  4408.156672345816\n",
      "explained_variance_score:  0.5916139209504043\n",
      "mean_absolute_error:  1931.7514904458599\n"
     ]
    }
   ],
   "source": [
    "#Fitting Regressor\n",
    "model_name = 'ran_for_wo'\n",
    "from sklearn.ensemble import RandomForestRegressor\n",
    "regressor = RandomForestRegressor(n_estimators = 1000,random_state = 45)\n",
    "regressor.fit(X_train,y_train)\n",
    "# regressor.fit(X,y)\n",
    "# Predicting a new result\n",
    "y_pred = regressor.predict(X_test)\n",
    "plt.scatter(y_test,y_pred, color = 'blue')\n",
    "plt.title('Truth or Bluff (Random Forest Regression Model)')\n",
    "plt.xlabel('Real')\n",
    "plt.ylabel('Predicted')\n",
    "plt.show()\n",
    "scores(y_test, y_pred)\n",
    "preds[model_name] = [y_pred,y_test]"
   ]
  },
  {
   "cell_type": "code",
   "execution_count": 32,
   "metadata": {},
   "outputs": [],
   "source": [
    "sc= StandardScaler()\n",
    "X_train = sc.fit_transform(X_train)\n",
    "X_test = sc.transform(X_test)\n",
    "# Xtest = sc.transform(Xtest)\n",
    "\n",
    "scy= StandardScaler()\n",
    "y_train = scy.fit_transform(y_train.reshape(-1, 1))\n",
    "y_test = scy.transform(y_test.reshape(-1, 1))"
   ]
  },
  {
   "cell_type": "code",
   "execution_count": 33,
   "metadata": {},
   "outputs": [
    {
     "name": "stderr",
     "output_type": "stream",
     "text": [
      "Using TensorFlow backend.\n"
     ]
    },
    {
     "name": "stdout",
     "output_type": "stream",
     "text": [
      "(624, 10) (624, 1)\n"
     ]
    },
    {
     "name": "stderr",
     "output_type": "stream",
     "text": [
      "C:\\Users\\Arush\\Anaconda3\\envs\\tf_gpu\\lib\\site-packages\\ipykernel_launcher.py:10: UserWarning: Update your `Dense` call to the Keras 2 API: `Dense(activation=\"relu\", units=10, kernel_initializer=\"uniform\")`\n",
      "  # Remove the CWD from sys.path while we load stuff.\n",
      "C:\\Users\\Arush\\Anaconda3\\envs\\tf_gpu\\lib\\site-packages\\ipykernel_launcher.py:12: UserWarning: Update your `Dense` call to the Keras 2 API: `Dense(activation=\"relu\", units=8, kernel_initializer=\"uniform\")`\n",
      "  if sys.path[0] == '':\n",
      "C:\\Users\\Arush\\Anaconda3\\envs\\tf_gpu\\lib\\site-packages\\ipykernel_launcher.py:14: UserWarning: Update your `Dense` call to the Keras 2 API: `Dense(activation=\"relu\", units=4, kernel_initializer=\"uniform\")`\n",
      "  \n",
      "C:\\Users\\Arush\\Anaconda3\\envs\\tf_gpu\\lib\\site-packages\\ipykernel_launcher.py:16: UserWarning: Update your `Dense` call to the Keras 2 API: `Dense(activation=\"sigmoid\", units=1, kernel_initializer=\"uniform\")`\n",
      "  app.launch_new_instance()\n",
      "C:\\Users\\Arush\\Anaconda3\\envs\\tf_gpu\\lib\\site-packages\\ipykernel_launcher.py:21: UserWarning: The `nb_epoch` argument in `fit` has been renamed `epochs`.\n"
     ]
    },
    {
     "name": "stdout",
     "output_type": "stream",
     "text": [
      "Model: \"sequential_1\"\n",
      "_________________________________________________________________\n",
      "Layer (type)                 Output Shape              Param #   \n",
      "=================================================================\n",
      "dense_1 (Dense)              (None, 10)                110       \n",
      "_________________________________________________________________\n",
      "dense_2 (Dense)              (None, 10)                110       \n",
      "_________________________________________________________________\n",
      "dense_3 (Dense)              (None, 8)                 88        \n",
      "_________________________________________________________________\n",
      "dense_4 (Dense)              (None, 4)                 36        \n",
      "_________________________________________________________________\n",
      "dense_5 (Dense)              (None, 1)                 5         \n",
      "=================================================================\n",
      "Total params: 349\n",
      "Trainable params: 349\n",
      "Non-trainable params: 0\n",
      "_________________________________________________________________\n",
      "Epoch 1/100\n",
      "624/624 [==============================] - 1s 1ms/step - loss: 1.2462 - accuracy: 0.0000e+00\n",
      "Epoch 2/100\n",
      "624/624 [==============================] - 0s 317us/step - loss: 1.2372 - accuracy: 0.0000e+00\n",
      "Epoch 3/100\n",
      "624/624 [==============================] - 0s 327us/step - loss: 1.2231 - accuracy: 0.0000e+00\n",
      "Epoch 4/100\n",
      "624/624 [==============================] - 0s 337us/step - loss: 1.1859 - accuracy: 0.0000e+00\n",
      "Epoch 5/100\n",
      "624/624 [==============================] - 0s 325us/step - loss: 1.0785 - accuracy: 0.0000e+00\n",
      "Epoch 6/100\n",
      "624/624 [==============================] - 0s 337us/step - loss: 0.9212 - accuracy: 0.0000e+00\n",
      "Epoch 7/100\n",
      "624/624 [==============================] - 0s 327us/step - loss: 0.8541 - accuracy: 0.0000e+00\n",
      "Epoch 8/100\n",
      "624/624 [==============================] - 0s 337us/step - loss: 0.8367 - accuracy: 0.0000e+00\n",
      "Epoch 9/100\n",
      "624/624 [==============================] - 0s 329us/step - loss: 0.8291 - accuracy: 0.0000e+00\n",
      "Epoch 10/100\n",
      "624/624 [==============================] - 0s 337us/step - loss: 0.8228 - accuracy: 0.0000e+00\n",
      "Epoch 11/100\n",
      "624/624 [==============================] - 0s 316us/step - loss: 0.8148 - accuracy: 0.0000e+00\n",
      "Epoch 12/100\n",
      "624/624 [==============================] - 0s 327us/step - loss: 0.8037 - accuracy: 0.0000e+00\n",
      "Epoch 13/100\n",
      "624/624 [==============================] - 0s 324us/step - loss: 0.7924 - accuracy: 0.0000e+00\n",
      "Epoch 14/100\n",
      "624/624 [==============================] - 0s 335us/step - loss: 0.7778 - accuracy: 0.0000e+00\n",
      "Epoch 15/100\n",
      "624/624 [==============================] - 0s 333us/step - loss: 0.7663 - accuracy: 0.0000e+00\n",
      "Epoch 16/100\n",
      "624/624 [==============================] - 0s 319us/step - loss: 0.7558 - accuracy: 0.0000e+00\n",
      "Epoch 17/100\n",
      "624/624 [==============================] - 0s 341us/step - loss: 0.7497 - accuracy: 0.0000e+00\n",
      "Epoch 18/100\n",
      "624/624 [==============================] - 0s 330us/step - loss: 0.7435 - accuracy: 0.0000e+00\n",
      "Epoch 19/100\n",
      "624/624 [==============================] - 0s 329us/step - loss: 0.7404 - accuracy: 0.0000e+00\n",
      "Epoch 20/100\n",
      "624/624 [==============================] - 0s 334us/step - loss: 0.7374 - accuracy: 0.0000e+00\n",
      "Epoch 21/100\n",
      "624/624 [==============================] - 0s 333us/step - loss: 0.7344 - accuracy: 0.0000e+00\n",
      "Epoch 22/100\n",
      "624/624 [==============================] - 0s 322us/step - loss: 0.7331 - accuracy: 0.0000e+00\n",
      "Epoch 23/100\n",
      "624/624 [==============================] - 0s 332us/step - loss: 0.7316 - accuracy: 0.0000e+00\n",
      "Epoch 24/100\n",
      "624/624 [==============================] - 0s 327us/step - loss: 0.7305 - accuracy: 0.0000e+00\n",
      "Epoch 25/100\n",
      "624/624 [==============================] - 0s 325us/step - loss: 0.7296 - accuracy: 0.0000e+00\n",
      "Epoch 26/100\n",
      "624/624 [==============================] - 0s 340us/step - loss: 0.7291 - accuracy: 0.0000e+00\n",
      "Epoch 27/100\n",
      "624/624 [==============================] - 0s 337us/step - loss: 0.7294 - accuracy: 0.0000e+00\n",
      "Epoch 28/100\n",
      "624/624 [==============================] - 0s 356us/step - loss: 0.7277 - accuracy: 0.0000e+00\n",
      "Epoch 29/100\n",
      "624/624 [==============================] - 0s 327us/step - loss: 0.7277 - accuracy: 0.0000e+00\n",
      "Epoch 30/100\n",
      "624/624 [==============================] - 0s 337us/step - loss: 0.7275 - accuracy: 0.0000e+00\n",
      "Epoch 31/100\n",
      "624/624 [==============================] - 0s 338us/step - loss: 0.7268 - accuracy: 0.0000e+00\n",
      "Epoch 32/100\n",
      "624/624 [==============================] - 0s 380us/step - loss: 0.7262 - accuracy: 0.0000e+00\n",
      "Epoch 33/100\n",
      "624/624 [==============================] - 0s 341us/step - loss: 0.7255 - accuracy: 0.0000e+00\n",
      "Epoch 34/100\n",
      "624/624 [==============================] - 0s 343us/step - loss: 0.7254 - accuracy: 0.0000e+00\n",
      "Epoch 35/100\n",
      "624/624 [==============================] - 0s 343us/step - loss: 0.7247 - accuracy: 0.0000e+00\n",
      "Epoch 36/100\n",
      "624/624 [==============================] - 0s 343us/step - loss: 0.7245 - accuracy: 0.0000e+00\n",
      "Epoch 37/100\n",
      "624/624 [==============================] - 0s 329us/step - loss: 0.7241 - accuracy: 0.0000e+00\n",
      "Epoch 38/100\n",
      "624/624 [==============================] - 0s 337us/step - loss: 0.7236 - accuracy: 0.0000e+00\n",
      "Epoch 39/100\n",
      "624/624 [==============================] - 0s 333us/step - loss: 0.7230 - accuracy: 0.0000e+00\n",
      "Epoch 40/100\n",
      "624/624 [==============================] - 0s 343us/step - loss: 0.7229 - accuracy: 0.0000e+00\n",
      "Epoch 41/100\n",
      "624/624 [==============================] - 0s 319us/step - loss: 0.7226 - accuracy: 0.0000e+00\n",
      "Epoch 42/100\n",
      "624/624 [==============================] - 0s 340us/step - loss: 0.7224 - accuracy: 0.0000e+00\n",
      "Epoch 43/100\n",
      "624/624 [==============================] - 0s 343us/step - loss: 0.7218 - accuracy: 0.0000e+00\n",
      "Epoch 44/100\n",
      "624/624 [==============================] - 0s 327us/step - loss: 0.7216 - accuracy: 0.0000e+00\n",
      "Epoch 45/100\n",
      "624/624 [==============================] - 0s 324us/step - loss: 0.7212 - accuracy: 0.0000e+00\n",
      "Epoch 46/100\n",
      "624/624 [==============================] - 0s 337us/step - loss: 0.7208 - accuracy: 0.0000e+00\n",
      "Epoch 47/100\n",
      "624/624 [==============================] - 0s 344us/step - loss: 0.7210 - accuracy: 0.0000e+00\n",
      "Epoch 48/100\n",
      "624/624 [==============================] - 0s 343us/step - loss: 0.7203 - accuracy: 0.0000e+00\n",
      "Epoch 49/100\n",
      "624/624 [==============================] - 0s 340us/step - loss: 0.7202 - accuracy: 0.0000e+00\n",
      "Epoch 50/100\n",
      "624/624 [==============================] - 0s 332us/step - loss: 0.7193 - accuracy: 0.0000e+00\n",
      "Epoch 51/100\n",
      "624/624 [==============================] - 0s 329us/step - loss: 0.7194 - accuracy: 0.0000e+00\n",
      "Epoch 52/100\n",
      "624/624 [==============================] - 0s 338us/step - loss: 0.7187 - accuracy: 0.0000e+00\n",
      "Epoch 53/100\n",
      "624/624 [==============================] - 0s 332us/step - loss: 0.7181 - accuracy: 0.0000e+00\n",
      "Epoch 54/100\n",
      "624/624 [==============================] - 0s 328us/step - loss: 0.7181 - accuracy: 0.0000e+00\n",
      "Epoch 55/100\n",
      "624/624 [==============================] - 0s 333us/step - loss: 0.7181 - accuracy: 0.0000e+00\n",
      "Epoch 56/100\n",
      "624/624 [==============================] - 0s 354us/step - loss: 0.7173 - accuracy: 0.0000e+00\n",
      "Epoch 57/100\n",
      "624/624 [==============================] - 0s 340us/step - loss: 0.7169 - accuracy: 0.0000e+00\n",
      "Epoch 58/100\n",
      "624/624 [==============================] - 0s 338us/step - loss: 0.7168 - accuracy: 0.0000e+00\n",
      "Epoch 59/100\n",
      "624/624 [==============================] - 0s 333us/step - loss: 0.7163 - accuracy: 0.0000e+00\n",
      "Epoch 60/100\n",
      "624/624 [==============================] - 0s 340us/step - loss: 0.7161 - accuracy: 0.0000e+00\n",
      "Epoch 61/100\n",
      "624/624 [==============================] - 0s 340us/step - loss: 0.7159 - accuracy: 0.0000e+00\n",
      "Epoch 62/100\n",
      "624/624 [==============================] - 0s 333us/step - loss: 0.7146 - accuracy: 0.0000e+00\n",
      "Epoch 63/100\n",
      "624/624 [==============================] - 0s 351us/step - loss: 0.7137 - accuracy: 0.0000e+00\n",
      "Epoch 64/100\n",
      "624/624 [==============================] - 0s 354us/step - loss: 0.7132 - accuracy: 0.0000e+00\n",
      "Epoch 65/100\n",
      "624/624 [==============================] - 0s 338us/step - loss: 0.7118 - accuracy: 0.0000e+00\n",
      "Epoch 66/100\n",
      "624/624 [==============================] - 0s 345us/step - loss: 0.7105 - accuracy: 0.0000e+00\n",
      "Epoch 67/100\n"
     ]
    },
    {
     "name": "stdout",
     "output_type": "stream",
     "text": [
      "624/624 [==============================] - 0s 330us/step - loss: 0.7102 - accuracy: 0.0000e+00\n",
      "Epoch 68/100\n",
      "624/624 [==============================] - 0s 356us/step - loss: 0.7088 - accuracy: 0.0000e+00\n",
      "Epoch 69/100\n",
      "624/624 [==============================] - 0s 383us/step - loss: 0.7069 - accuracy: 0.0000e+00\n",
      "Epoch 70/100\n",
      "624/624 [==============================] - 0s 345us/step - loss: 0.7067 - accuracy: 0.0000e+00\n",
      "Epoch 71/100\n",
      "624/624 [==============================] - 0s 356us/step - loss: 0.7081 - accuracy: 0.0000e+00\n",
      "Epoch 72/100\n",
      "624/624 [==============================] - 0s 354us/step - loss: 0.7055 - accuracy: 0.0000e+00\n",
      "Epoch 73/100\n",
      "624/624 [==============================] - 0s 364us/step - loss: 0.7046 - accuracy: 0.0000e+00\n",
      "Epoch 74/100\n",
      "624/624 [==============================] - 0s 364us/step - loss: 0.7047 - accuracy: 0.0000e+00\n",
      "Epoch 75/100\n",
      "624/624 [==============================] - 0s 438us/step - loss: 0.7040 - accuracy: 0.0000e+00\n",
      "Epoch 76/100\n",
      "624/624 [==============================] - 0s 361us/step - loss: 0.7026 - accuracy: 0.0000e+00\n",
      "Epoch 77/100\n",
      "624/624 [==============================] - 0s 321us/step - loss: 0.7023 - accuracy: 0.0000e+00\n",
      "Epoch 78/100\n",
      "624/624 [==============================] - 0s 330us/step - loss: 0.7022 - accuracy: 0.0000e+00\n",
      "Epoch 79/100\n",
      "624/624 [==============================] - 0s 320us/step - loss: 0.7018 - accuracy: 0.0000e+00\n",
      "Epoch 80/100\n",
      "624/624 [==============================] - 0s 384us/step - loss: 0.7015 - accuracy: 0.0000e+00\n",
      "Epoch 81/100\n",
      "624/624 [==============================] - 0s 415us/step - loss: 0.7010 - accuracy: 0.0000e+00\n",
      "Epoch 82/100\n",
      "624/624 [==============================] - 0s 356us/step - loss: 0.7009 - accuracy: 0.0000e+00\n",
      "Epoch 83/100\n",
      "624/624 [==============================] - 0s 348us/step - loss: 0.7010 - accuracy: 0.0000e+00\n",
      "Epoch 84/100\n",
      "624/624 [==============================] - 0s 332us/step - loss: 0.7007 - accuracy: 0.0000e+00\n",
      "Epoch 85/100\n",
      "624/624 [==============================] - 0s 348us/step - loss: 0.6997 - accuracy: 0.0000e+00\n",
      "Epoch 86/100\n",
      "624/624 [==============================] - 0s 364us/step - loss: 0.7001 - accuracy: 0.0000e+00\n",
      "Epoch 87/100\n",
      "624/624 [==============================] - 0s 340us/step - loss: 0.6999 - accuracy: 0.0000e+00\n",
      "Epoch 88/100\n",
      "624/624 [==============================] - 0s 351us/step - loss: 0.6999 - accuracy: 0.0000e+00\n",
      "Epoch 89/100\n",
      "624/624 [==============================] - 0s 356us/step - loss: 0.7001 - accuracy: 0.0000e+00\n",
      "Epoch 90/100\n",
      "624/624 [==============================] - 0s 340us/step - loss: 0.7000 - accuracy: 0.0000e+00\n",
      "Epoch 91/100\n",
      "624/624 [==============================] - 0s 314us/step - loss: 0.6995 - accuracy: 0.0000e+00\n",
      "Epoch 92/100\n",
      "624/624 [==============================] - 0s 373us/step - loss: 0.6995 - accuracy: 0.0000e+00\n",
      "Epoch 93/100\n",
      "624/624 [==============================] - 0s 423us/step - loss: 0.6988 - accuracy: 0.0000e+00\n",
      "Epoch 94/100\n",
      "624/624 [==============================] - 0s 415us/step - loss: 0.6983 - accuracy: 0.0000e+00\n",
      "Epoch 95/100\n",
      "624/624 [==============================] - 0s 372us/step - loss: 0.6982 - accuracy: 0.0000e+00\n",
      "Epoch 96/100\n",
      "624/624 [==============================] - 0s 370us/step - loss: 0.6979 - accuracy: 0.0000e+00\n",
      "Epoch 97/100\n",
      "624/624 [==============================] - 0s 315us/step - loss: 0.6990 - accuracy: 0.0000e+00\n",
      "Epoch 98/100\n",
      "624/624 [==============================] - 0s 332us/step - loss: 0.6971 - accuracy: 0.0000e+00\n",
      "Epoch 99/100\n",
      "624/624 [==============================] - 0s 353us/step - loss: 0.6975 - accuracy: 0.0000e+00\n",
      "Epoch 100/100\n",
      "624/624 [==============================] - 0s 383us/step - loss: 0.6972 - accuracy: 0.0000e+00\n"
     ]
    },
    {
     "data": {
      "image/png": "[encoded data removed]",
      "text/plain": [
       "<Figure size 432x288 with 1 Axes>"
      ]
     },
     "metadata": {
      "needs_background": "light"
     },
     "output_type": "display_data"
    },
    {
     "name": "stdout",
     "output_type": "stream",
     "text": [
      "r2_score:  0.28488849756969215\n",
      "mean_squared_error:  33974427.25644337\n",
      "root_mean_squared_error:  5828.7586376897925\n",
      "explained_variance_score:  0.29450729356430105\n",
      "mean_absolute_error:  3822.669215888734\n"
     ]
    }
   ],
   "source": [
    "model_name='ANN_100_wo'\n",
    "from keras.models import Sequential\n",
    "from keras.layers import Dense\n",
    "print(X_train.shape,y_train.shape)\n",
    "\n",
    "classifier = Sequential()\n",
    "# Adding the input layer and the first hidden layer\n",
    "classifier.add(Dense(activation=\"relu\", input_dim=10, units=10, kernel_initializer=\"uniform\"))\n",
    "# Adding the second hidden layer\n",
    "classifier.add(Dense(output_dim = 10, init = 'uniform', activation = 'relu'))\n",
    "# Adding the second hidden layer\n",
    "classifier.add(Dense(output_dim = 8, init = 'uniform', activation = 'relu'))\n",
    "# Adding the second hidden layer\n",
    "classifier.add(Dense(output_dim = 4, init = 'uniform', activation = 'relu'))\n",
    "# Adding the output layer\n",
    "classifier.add(Dense(output_dim = 1, init = 'uniform', activation = 'sigmoid'))\n",
    "# Compiling the ANN\n",
    "classifier.compile(optimizer = 'adam', loss = 'mean_squared_error', metrics = ['accuracy'])\n",
    "classifier.summary()\n",
    "# Fitting the ANN to the Training set\n",
    "history = classifier.fit(X_train, y_train, batch_size = 20, nb_epoch = 100)\n",
    "\n",
    "# Part 3 - Making the predictions and evaluating the model\n",
    "# Predicting the Test set results\n",
    "y_pred = classifier.predict(X_test)\n",
    "y_pred = scy.inverse_transform(y_pred)\n",
    "# mse = mean_squared_error(scy.inverse_transform(y_test),y_pred)\n",
    "# mse_errors.append([model_name,mse])\n",
    "\n",
    "plt.scatter(scy.inverse_transform(y_test),y_pred, color = 'blue')\n",
    "plt.title('Truth or Bluff (ANN Model)')\n",
    "plt.xlabel('Real')\n",
    "plt.ylabel('Predicted')\n",
    "plt.show()\n",
    "scores(scy.inverse_transform(y_test),y_pred)\n",
    "preds[model_name] = [y_pred,scy.inverse_transform(y_test)]"
   ]
  },
  {
   "cell_type": "code",
   "execution_count": 34,
   "metadata": {},
   "outputs": [
    {
     "data": {
      "image/png": "[encoded data removed]",
      "text/plain": [
       "<Figure size 432x288 with 1 Axes>"
      ]
     },
     "metadata": {
      "needs_background": "light"
     },
     "output_type": "display_data"
    }
   ],
   "source": [
    "plt.plot(history.history['loss'])\n",
    "plt.title('model loss')\n",
    "plt.ylabel('loss')\n",
    "plt.xlabel('epoch')\n",
    "plt.legend(['train', 'test'], loc='upper right')\n",
    "plt.show()"
   ]
  },
  {
   "cell_type": "code",
   "execution_count": 35,
   "metadata": {},
   "outputs": [
    {
     "name": "stdout",
     "output_type": "stream",
     "text": [
      "Ran_for_w\n",
      "r2_score:  0.5980925536690938\n",
      "mean_squared_error:  19094330.39852833\n",
      "root_mean_squared_error:  4369.70598536427\n",
      "explained_variance_score:  0.5986369167489372\n",
      "mean_absolute_error:  1942.0251337579618\n",
      "###############\n",
      "Linear Regression_w\n",
      "r2_score:  0.6815001840377333\n",
      "mean_squared_error:  15131694.556479588\n",
      "root_mean_squared_error:  3889.947886087883\n",
      "explained_variance_score:  0.6824121541727179\n",
      "mean_absolute_error:  2282.9301919659747\n",
      "###############\n",
      "SVR_w\n",
      "r2_score:  0.3354303975133457\n",
      "mean_squared_error:  31573218.35796751\n",
      "root_mean_squared_error:  5619.005103927875\n",
      "explained_variance_score:  0.35096817399152525\n",
      "mean_absolute_error:  2500.9603103852123\n",
      "###############\n",
      "Linear Regression_wo\n",
      "r2_score:  0.6848897344381077\n",
      "mean_squared_error:  14970659.482762827\n",
      "root_mean_squared_error:  3869.1936476173983\n",
      "explained_variance_score:  0.6856285131276418\n",
      "mean_absolute_error:  2211.1689400758805\n",
      "###############\n",
      "ran_for_wo\n",
      "r2_score:  0.5909883647084245\n",
      "mean_squared_error:  19431845.247946944\n",
      "root_mean_squared_error:  4408.156672345816\n",
      "explained_variance_score:  0.5916139209504043\n",
      "mean_absolute_error:  1931.7514904458599\n",
      "###############\n",
      "ANN_100_wo\n",
      "r2_score:  0.28488849756969215\n",
      "mean_squared_error:  33974427.25644337\n",
      "root_mean_squared_error:  5828.7586376897925\n",
      "explained_variance_score:  0.29450729356430105\n",
      "mean_absolute_error:  3822.669215888734\n",
      "###############\n"
     ]
    }
   ],
   "source": [
    "for name,y_vals in preds.items():\n",
    "    print(name)\n",
    "    scores(y_vals[1],y_vals[0])\n",
    "    print('#'*15)"
   ]
  },
  {
   "cell_type": "markdown",
   "metadata": {},
   "source": [
    "# Here, we can see that ANN do not work too well and Simple Linear Regression and Random Forest are working great\n",
    "- So we will make an Ensemble of all the four Combinations\n",
    "- Lets see what happens :)"
   ]
  },
  {
   "cell_type": "code",
   "execution_count": 36,
   "metadata": {},
   "outputs": [
    {
     "name": "stdout",
     "output_type": "stream",
     "text": [
      "r2_score:  0.6741495814175331\n",
      "mean_squared_error:  15480916.339603337\n",
      "root_mean_squared_error:  3934.579563257469\n",
      "explained_variance_score:  0.674848153263093\n",
      "mean_absolute_error:  2030.8191451793796\n"
     ]
    }
   ],
   "source": [
    "model_name = 'Ensemble_1'\n",
    "y_pred =[]\n",
    "y_test = []\n",
    "f = False\n",
    "models = ['Ran_for_w','Linear Regression_w','Linear Regression_wo','ran_for_wo']\n",
    "for name,y_vals in preds.items():\n",
    "    if name not in models:\n",
    "        continue\n",
    "    if f==False:\n",
    "        y_pred = y_vals[0]\n",
    "        y_test = y_vals[1]\n",
    "        f = True\n",
    "    else:\n",
    "        y_pred = y_pred + y_vals[0]\n",
    "l = len(models)\n",
    "y_pred = y_pred/l\n",
    "scores(y_test,y_pred)\n",
    "preds[model_name] = [y_pred,y_test]"
   ]
  },
  {
   "cell_type": "markdown",
   "metadata": {},
   "source": [
    "- Now we can clearly observe that by compromising a little MAE , we have gained a better MSE than average of the 4 models"
   ]
  },
  {
   "cell_type": "code",
   "execution_count": 37,
   "metadata": {},
   "outputs": [
    {
     "name": "stdout",
     "output_type": "stream",
     "text": [
      "r2_score:  0.6837537225757171\n",
      "mean_squared_error:  15024630.579927508\n",
      "root_mean_squared_error:  3876.161836137329\n",
      "explained_variance_score:  0.684576819364221\n",
      "mean_absolute_error:  2242.577936280179\n"
     ]
    }
   ],
   "source": [
    "model_name = 'Ensemble_2'\n",
    "y_pred =[]\n",
    "y_test = []\n",
    "f = False\n",
    "models = ['Linear Regression_w','Linear Regression_wo']\n",
    "for name,y_vals in preds.items():\n",
    "    if name not in models:\n",
    "        continue\n",
    "    if f==False:\n",
    "        y_pred = y_vals[0]\n",
    "        y_test = y_vals[1]\n",
    "        f = True\n",
    "    else:\n",
    "        y_pred = y_pred + y_vals[0]\n",
    "l = len(models)\n",
    "y_pred = y_pred/l\n",
    "scores(y_test,y_pred)\n",
    "preds[model_name] = [y_pred,y_test]"
   ]
  },
  {
   "cell_type": "code",
   "execution_count": 38,
   "metadata": {},
   "outputs": [
    {
     "name": "stdout",
     "output_type": "stream",
     "text": [
      "r2_score:  0.5947210738730679\n",
      "mean_squared_error:  19254506.950978357\n",
      "root_mean_squared_error:  4387.9957783683385\n",
      "explained_variance_score:  0.5953053283265204\n",
      "mean_absolute_error:  1936.801840764331\n"
     ]
    }
   ],
   "source": [
    "model_name = 'Ensemble_3'\n",
    "y_pred =[]\n",
    "y_test = []\n",
    "f = False\n",
    "models = ['Ran_for_w','ran_for_wo']\n",
    "for name,y_vals in preds.items():\n",
    "    if name not in models:\n",
    "        continue\n",
    "    if f==False:\n",
    "        y_pred = y_vals[0]\n",
    "        y_test = y_vals[1]\n",
    "        f = True\n",
    "    else:\n",
    "        y_pred = y_pred + y_vals[0]\n",
    "l = len(models)\n",
    "y_pred = y_pred/l\n",
    "scores(y_test,y_pred)\n",
    "preds[model_name] = [y_pred,y_test]"
   ]
  },
  {
   "cell_type": "markdown",
   "metadata": {},
   "source": [
    "- Individual combinations of Linear Regression and Random Forest does not give any promising results"
   ]
  },
  {
   "cell_type": "markdown",
   "metadata": {},
   "source": [
    "# Now ,Let's try removing some columns which are not contribuiting to our Regression Models"
   ]
  },
  {
   "cell_type": "markdown",
   "metadata": {},
   "source": [
    "- We are going to use these columns for our evaluation"
   ]
  },
  {
   "cell_type": "code",
   "execution_count": 39,
   "metadata": {},
   "outputs": [
    {
     "name": "stdout",
     "output_type": "stream",
     "text": [
      "Index(['City', 'State', 'Type', 'Population [2011]', 'Popuation [2001]',\n",
      "       'Sex Ratio', 'Median Age', 'Avg Temp', 'SWM', 'Toilets Avl',\n",
      "       'Water Purity', 'H Index', 'Female Population', '# of hospitals',\n",
      "       'Foreign Visitors', 'Covid Cases'],\n",
      "      dtype='object')\n",
      "['Population [2011]', 'Toilets Avl', 'Female Population', '# of hospitals', 'Foreign Visitors']\n"
     ]
    }
   ],
   "source": [
    "print(cols)\n",
    "req_cols = [ 'Population [2011]', 'Toilets Avl','Female Population', '# of hospitals','Foreign Visitors']\n",
    "print(req_cols)"
   ]
  },
  {
   "cell_type": "code",
   "execution_count": 40,
   "metadata": {},
   "outputs": [],
   "source": [
    "req_idx = [2,6,9,10,11] "
   ]
  },
  {
   "cell_type": "code",
   "execution_count": 41,
   "metadata": {},
   "outputs": [],
   "source": [
    "# Splitting the dataset into the Training set and Test set\n",
    "from sklearn.model_selection import train_test_split\n",
    "X_train, X_test, y_train, y_test = train_test_split(X[:,req_idx], Y, test_size = 0.2, random_state = 0)"
   ]
  },
  {
   "cell_type": "code",
   "execution_count": 42,
   "metadata": {},
   "outputs": [
    {
     "data": {
      "image/png": "[encoded data removed]",
      "text/plain": [
       "<Figure size 432x288 with 1 Axes>"
      ]
     },
     "metadata": {
      "needs_background": "light"
     },
     "output_type": "display_data"
    },
    {
     "name": "stdout",
     "output_type": "stream",
     "text": [
      "r2_score:  0.6824800176639781\n",
      "mean_squared_error:  15085143.373698808\n",
      "root_mean_squared_error:  3883.9597543871137\n",
      "explained_variance_score:  0.6830153227601169\n",
      "mean_absolute_error:  2203.1609926090146\n"
     ]
    }
   ],
   "source": [
    "model_name = 'Linear Regression_essentials'\n",
    "from sklearn.linear_model import LinearRegression\n",
    "regressor = LinearRegression()\n",
    "regressor.fit(X_train,y_train)\n",
    "\n",
    "y_pred = regressor.predict(X_test)\n",
    "\n",
    "plt.scatter(y_test,y_pred)\n",
    "plt.title('Truth or Bluff (Linear Regression)')\n",
    "plt.xlabel('Real')\n",
    "plt.ylabel('Predicted')\n",
    "plt.show()\n",
    "scores(y_test, y_pred)\n",
    "preds[model_name] = [y_pred,y_test]"
   ]
  },
  {
   "cell_type": "code",
   "execution_count": 43,
   "metadata": {},
   "outputs": [
    {
     "data": {
      "image/png": "[encoded data removed]",
      "text/plain": [
       "<Figure size 432x288 with 1 Axes>"
      ]
     },
     "metadata": {
      "needs_background": "light"
     },
     "output_type": "display_data"
    },
    {
     "name": "stdout",
     "output_type": "stream",
     "text": [
      "r2_score:  0.6389827541162061\n",
      "mean_squared_error:  17151666.72178626\n",
      "root_mean_squared_error:  4141.457077139187\n",
      "explained_variance_score:  0.6431460238603808\n",
      "mean_absolute_error:  1987.243974522293\n"
     ]
    }
   ],
   "source": [
    "#Fitting Regressor\n",
    "model_name = 'ran_for_essential'\n",
    "from sklearn.ensemble import RandomForestRegressor\n",
    "regressor = RandomForestRegressor(n_estimators = 1000,random_state = 45)\n",
    "regressor.fit(X_train,y_train)\n",
    "# regressor.fit(X,y)\n",
    "# Predicting a new result\n",
    "y_pred = regressor.predict(X_test)\n",
    "plt.scatter(y_test,y_pred, color = 'blue')\n",
    "plt.title('Truth or Bluff (Random Forest Regression Model)')\n",
    "plt.xlabel('Real')\n",
    "plt.ylabel('Predicted')\n",
    "plt.show()\n",
    "scores(y_test, y_pred)\n",
    "preds[model_name] = [y_pred,y_test]"
   ]
  },
  {
   "cell_type": "code",
   "execution_count": 44,
   "metadata": {},
   "outputs": [
    {
     "name": "stdout",
     "output_type": "stream",
     "text": [
      "r2_score:  0.6920430675291369\n",
      "mean_squared_error:  14630809.83146182\n",
      "root_mean_squared_error:  3825.0241608990946\n",
      "explained_variance_score:  0.69396413931858\n",
      "mean_absolute_error:  2016.528008248452\n"
     ]
    }
   ],
   "source": [
    "model_name = 'Ensemble_4'\n",
    "y_pred =[]\n",
    "y_test = []\n",
    "f = False\n",
    "models = ['Linear Regression_essentials','ran_for_essential']\n",
    "for name,y_vals in preds.items():\n",
    "    if name not in models:\n",
    "        continue\n",
    "    if f==False:\n",
    "        y_pred = y_vals[0]\n",
    "        y_test = y_vals[1]\n",
    "        f = True\n",
    "    else:\n",
    "        y_pred = y_pred + y_vals[0]\n",
    "l = len(models)\n",
    "y_pred = y_pred/l\n",
    "scores(y_test,y_pred)\n",
    "preds[model_name] = [y_pred,y_test]"
   ]
  },
  {
   "cell_type": "markdown",
   "metadata": {},
   "source": [
    "- This Ensemble clearly outperforms the 'Ensemble_1'"
   ]
  },
  {
   "cell_type": "code",
   "execution_count": 45,
   "metadata": {},
   "outputs": [
    {
     "name": "stdout",
     "output_type": "stream",
     "text": [
      "r2_score:  0.6828488115613542\n",
      "mean_squared_error:  15067622.243921924\n",
      "root_mean_squared_error:  3881.7035234445616\n",
      "explained_variance_score:  0.6838876070753066\n",
      "mean_absolute_error:  2013.8866749429626\n"
     ]
    }
   ],
   "source": [
    "model_name = 'Ensemble_5'\n",
    "y_pred =[]\n",
    "y_test = []\n",
    "f = False\n",
    "models = ['Linear Regression_essentials','ran_for_essential','Ran_for_w','Linear Regression_w','Linear Regression_wo','ran_for_wo']\n",
    "for name,y_vals in preds.items():\n",
    "    if name not in models:\n",
    "        continue\n",
    "    if f==False:\n",
    "        y_pred = y_vals[0]\n",
    "        y_test = y_vals[1]\n",
    "        f = True\n",
    "    else:\n",
    "        y_pred = y_pred + y_vals[0]\n",
    "l = len(models)\n",
    "y_pred = y_pred/l\n",
    "scores(y_test,y_pred)\n",
    "preds[model_name] = [y_pred,y_test]"
   ]
  },
  {
   "cell_type": "markdown",
   "metadata": {},
   "source": [
    "- Ensemble_5 does not outperforms Ensemble_4 so Ensemble_4 is the best model\n",
    "- We will go with Ensemble_4 for our final prediction on unseen Test_dataset"
   ]
  },
  {
   "cell_type": "markdown",
   "metadata": {},
   "source": [
    "# Summary of all the model"
   ]
  },
  {
   "cell_type": "code",
   "execution_count": 46,
   "metadata": {},
   "outputs": [
    {
     "name": "stdout",
     "output_type": "stream",
     "text": [
      "--------------- Ran_for_w ---------------\n",
      "r2_score:  0.5980925536690938\n",
      "mean_squared_error:  19094330.39852833\n",
      "root_mean_squared_error:  4369.70598536427\n",
      "explained_variance_score:  0.5986369167489372\n",
      "mean_absolute_error:  1942.0251337579618\n",
      "###############\n",
      "--------------- Linear Regression_w ---------------\n",
      "r2_score:  0.6815001840377333\n",
      "mean_squared_error:  15131694.556479588\n",
      "root_mean_squared_error:  3889.947886087883\n",
      "explained_variance_score:  0.6824121541727179\n",
      "mean_absolute_error:  2282.9301919659747\n",
      "###############\n",
      "--------------- SVR_w ---------------\n",
      "r2_score:  0.3354303975133457\n",
      "mean_squared_error:  31573218.35796751\n",
      "root_mean_squared_error:  5619.005103927875\n",
      "explained_variance_score:  0.35096817399152525\n",
      "mean_absolute_error:  2500.9603103852123\n",
      "###############\n",
      "--------------- Linear Regression_wo ---------------\n",
      "r2_score:  0.6848897344381077\n",
      "mean_squared_error:  14970659.482762827\n",
      "root_mean_squared_error:  3869.1936476173983\n",
      "explained_variance_score:  0.6856285131276418\n",
      "mean_absolute_error:  2211.1689400758805\n",
      "###############\n",
      "--------------- ran_for_wo ---------------\n",
      "r2_score:  0.5909883647084245\n",
      "mean_squared_error:  19431845.247946944\n",
      "root_mean_squared_error:  4408.156672345816\n",
      "explained_variance_score:  0.5916139209504043\n",
      "mean_absolute_error:  1931.7514904458599\n",
      "###############\n",
      "--------------- ANN_100_wo ---------------\n",
      "r2_score:  0.28488849756969215\n",
      "mean_squared_error:  33974427.25644337\n",
      "root_mean_squared_error:  5828.7586376897925\n",
      "explained_variance_score:  0.29450729356430105\n",
      "mean_absolute_error:  3822.669215888734\n",
      "###############\n",
      "--------------- Ensemble_1 ---------------\n",
      "r2_score:  0.6741495814175331\n",
      "mean_squared_error:  15480916.339603337\n",
      "root_mean_squared_error:  3934.579563257469\n",
      "explained_variance_score:  0.674848153263093\n",
      "mean_absolute_error:  2030.8191451793796\n",
      "###############\n",
      "--------------- Ensemble_2 ---------------\n",
      "r2_score:  0.6837537225757171\n",
      "mean_squared_error:  15024630.579927508\n",
      "root_mean_squared_error:  3876.161836137329\n",
      "explained_variance_score:  0.684576819364221\n",
      "mean_absolute_error:  2242.577936280179\n",
      "###############\n",
      "--------------- Ensemble_3 ---------------\n",
      "r2_score:  0.5947210738730679\n",
      "mean_squared_error:  19254506.950978357\n",
      "root_mean_squared_error:  4387.9957783683385\n",
      "explained_variance_score:  0.5953053283265204\n",
      "mean_absolute_error:  1936.801840764331\n",
      "###############\n",
      "--------------- Linear Regression_essentials ---------------\n",
      "r2_score:  0.6824800176639781\n",
      "mean_squared_error:  15085143.373698808\n",
      "root_mean_squared_error:  3883.9597543871137\n",
      "explained_variance_score:  0.6830153227601169\n",
      "mean_absolute_error:  2203.1609926090146\n",
      "###############\n",
      "--------------- ran_for_essential ---------------\n",
      "r2_score:  0.6389827541162061\n",
      "mean_squared_error:  17151666.72178626\n",
      "root_mean_squared_error:  4141.457077139187\n",
      "explained_variance_score:  0.6431460238603808\n",
      "mean_absolute_error:  1987.243974522293\n",
      "###############\n",
      "--------------- Ensemble_4 ---------------\n",
      "r2_score:  0.6920430675291369\n",
      "mean_squared_error:  14630809.83146182\n",
      "root_mean_squared_error:  3825.0241608990946\n",
      "explained_variance_score:  0.69396413931858\n",
      "mean_absolute_error:  2016.528008248452\n",
      "###############\n",
      "--------------- Ensemble_5 ---------------\n",
      "r2_score:  0.6828488115613542\n",
      "mean_squared_error:  15067622.243921924\n",
      "root_mean_squared_error:  3881.7035234445616\n",
      "explained_variance_score:  0.6838876070753066\n",
      "mean_absolute_error:  2013.8866749429626\n",
      "###############\n"
     ]
    }
   ],
   "source": [
    "for name,y_vals in preds.items():\n",
    "    print('-'*15,name,'-'*15)\n",
    "    scores(y_vals[1],y_vals[0])\n",
    "    print('#'*15)"
   ]
  },
  {
   "cell_type": "markdown",
   "metadata": {},
   "source": [
    "# Now Let's use Ensemble_4 for our Final Predictions"
   ]
  },
  {
   "cell_type": "code",
   "execution_count": 47,
   "metadata": {},
   "outputs": [
    {
     "name": "stdout",
     "output_type": "stream",
     "text": [
      "Index(['City', 'State', 'Population [2011]', 'Sex Ratio', 'Median Age',\n",
      "       'Avg Temp', 'SWM', 'Toilets Avl', 'Water Purity', 'H Index',\n",
      "       'Female Population', '# of hospitals', 'Foreign Visitors'],\n",
      "      dtype='object')\n"
     ]
    }
   ],
   "source": [
    "X_train = X[:,req_idx]\n",
    "y_train = Y\n",
    "print(test_temp.columns)\n",
    "Xtest = test_temp.iloc[:,:].values\n",
    "req_idx = [2,7,10,11,12]\n",
    "Xtest = Xtest[:,req_idx]\n"
   ]
  },
  {
   "cell_type": "code",
   "execution_count": 48,
   "metadata": {},
   "outputs": [],
   "source": [
    "models = {}\n",
    "model_name = 'Linear Regression_essentials_final'\n",
    "from sklearn.linear_model import LinearRegression\n",
    "regressor = LinearRegression()\n",
    "regressor.fit(X_train,y_train)\n",
    "y_pred_LR = regressor.predict(Xtest)\n",
    "preds[model_name] = y_pred_LR\n",
    "models[model_name] = [regressor,Xtest]\n",
    "#Fitting Regressor\n",
    "model_name = 'ran_for_essential_final'\n",
    "from sklearn.ensemble import RandomForestRegressor\n",
    "regressor = RandomForestRegressor(n_estimators = 1000,random_state = 45)\n",
    "regressor.fit(X_train,y_train)\n",
    "# regressor.fit(X,y)\n",
    "# Predicting a new result\n",
    "y_pred_ran = regressor.predict(Xtest)\n",
    "preds[model_name] = y_pred_ran\n",
    "models[model_name] = [regressor,Xtest]\n",
    "\n",
    "#Ensembling\n",
    "city = test_temp.iloc[:,0].values\n",
    "y_pred_final = (y_pred_LR + y_pred_ran)/2"
   ]
  },
  {
   "cell_type": "markdown",
   "metadata": {},
   "source": [
    "### Saving the final Results for Part 1"
   ]
  },
  {
   "cell_type": "code",
   "execution_count": 49,
   "metadata": {},
   "outputs": [],
   "source": [
    "y_final = []\n",
    "for i in range(len(city)):\n",
    "    y_final.append([city[i],y_pred_final[i]])\n",
    "pd.DataFrame(y_final, columns=['City','Covid Cases']).to_csv('Part1_predictions.csv',index = False)"
   ]
  },
  {
   "cell_type": "markdown",
   "metadata": {},
   "source": [
    "# Part 2\n",
    "### Loading and preparing data"
   ]
  },
  {
   "cell_type": "code",
   "execution_count": 50,
   "metadata": {
    "scrolled": true
   },
   "outputs": [
    {
     "data": {
      "text/html": [
       "<div>\n",
       "<style scoped>\n",
       "    .dataframe tbody tr th:only-of-type {\n",
       "        vertical-align: middle;\n",
       "    }\n",
       "\n",
       "    .dataframe tbody tr th {\n",
       "        vertical-align: top;\n",
       "    }\n",
       "\n",
       "    .dataframe thead th {\n",
       "        text-align: right;\n",
       "    }\n",
       "</style>\n",
       "<table border=\"1\" class=\"dataframe\">\n",
       "  <thead>\n",
       "    <tr style=\"text-align: right;\">\n",
       "      <th></th>\n",
       "      <th>City</th>\n",
       "      <th>Time Series Data</th>\n",
       "      <th>Unnamed: 2</th>\n",
       "      <th>Unnamed: 3</th>\n",
       "      <th>Unnamed: 4</th>\n",
       "      <th>Unnamed: 5</th>\n",
       "    </tr>\n",
       "  </thead>\n",
       "  <tbody>\n",
       "    <tr>\n",
       "      <th>0</th>\n",
       "      <td>City</td>\n",
       "      <td>April</td>\n",
       "      <td>May</td>\n",
       "      <td>June</td>\n",
       "      <td>July</td>\n",
       "      <td>August</td>\n",
       "    </tr>\n",
       "    <tr>\n",
       "      <th>1</th>\n",
       "      <td>Tuensang</td>\n",
       "      <td>1614</td>\n",
       "      <td>1946</td>\n",
       "      <td>2372</td>\n",
       "      <td>2500</td>\n",
       "      <td>2769</td>\n",
       "    </tr>\n",
       "    <tr>\n",
       "      <th>2</th>\n",
       "      <td>Lakshmeshwar</td>\n",
       "      <td>369179</td>\n",
       "      <td>445559</td>\n",
       "      <td>541045</td>\n",
       "      <td>572860</td>\n",
       "      <td>636502</td>\n",
       "    </tr>\n",
       "    <tr>\n",
       "      <th>3</th>\n",
       "      <td>Zira</td>\n",
       "      <td>140581</td>\n",
       "      <td>169665</td>\n",
       "      <td>206030</td>\n",
       "      <td>218138</td>\n",
       "      <td>242367</td>\n",
       "    </tr>\n",
       "    <tr>\n",
       "      <th>4</th>\n",
       "      <td>Yawal</td>\n",
       "      <td>2557179</td>\n",
       "      <td>3086249</td>\n",
       "      <td>3747597</td>\n",
       "      <td>3968032</td>\n",
       "      <td>4408916</td>\n",
       "    </tr>\n",
       "  </tbody>\n",
       "</table>\n",
       "</div>"
      ],
      "text/plain": [
       "           City Time Series Data Unnamed: 2 Unnamed: 3 Unnamed: 4 Unnamed: 5\n",
       "0          City            April        May       June       July     August\n",
       "1      Tuensang             1614       1946       2372       2500       2769\n",
       "2  Lakshmeshwar           369179     445559     541045     572860     636502\n",
       "3          Zira           140581     169665     206030     218138     242367\n",
       "4         Yawal          2557179    3086249    3747597    3968032    4408916"
      ]
     },
     "execution_count": 50,
     "metadata": {},
     "output_type": "execute_result"
    }
   ],
   "source": [
    "for_vis = pd.read_excel('Test_dataset.xlsx',sheet_name= 'Foreign_Visitors_TS')\n",
    "for_vis['City'][0] = 'City'\n",
    "for_vis.head()"
   ]
  },
  {
   "cell_type": "code",
   "execution_count": 51,
   "metadata": {},
   "outputs": [
    {
     "name": "stdout",
     "output_type": "stream",
     "text": [
      "           City    April      May     June     July   August\n",
      "0      Tuensang     1614     1946     2372     2500     2769\n",
      "1  Lakshmeshwar   369179   445559   541045   572860   636502\n",
      "2          Zira   140581   169665   206030   218138   242367\n",
      "3         Yawal  2557179  3086249  3747597  3968032  4408916\n",
      "4  Thana Bhawan  1800363  2172850  2638469  2793662  3104060\n"
     ]
    }
   ],
   "source": [
    "X_ts = for_vis.iloc[1:,:].values\n",
    "col = list(for_vis.iloc[0,:].values) \n",
    "data = pd.DataFrame(X_ts,columns =col)\n",
    "data.to_csv('Foreign_Visitors_TS.csv',index = False)\n",
    "print(data.head())\n",
    "city = data.iloc[:,0]\n",
    "data = data.iloc[:,1:]"
   ]
  },
  {
   "cell_type": "markdown",
   "metadata": {},
   "source": [
    "- Now we will replace NaN values with rows average respectively"
   ]
  },
  {
   "cell_type": "code",
   "execution_count": 52,
   "metadata": {},
   "outputs": [
    {
     "name": "stdout",
     "output_type": "stream",
     "text": [
      "April     55\n",
      "May       57\n",
      "June      32\n",
      "July      17\n",
      "August     0\n",
      "dtype: int64\n",
      "April     0\n",
      "May       0\n",
      "June      0\n",
      "July      0\n",
      "August    0\n",
      "dtype: int64\n"
     ]
    }
   ],
   "source": [
    "print(data.isna().sum())\n",
    "data = data.T.fillna(data.mean(axis=1)).T\n",
    "print(data.isna().sum())"
   ]
  },
  {
   "cell_type": "code",
   "execution_count": 53,
   "metadata": {},
   "outputs": [],
   "source": [
    "ts_preds = {}\n",
    "X_ts = data.iloc[:,0:-1].values\n",
    "y_ts = data.iloc[:,-1].values\n",
    "Xtest_ts = data.iloc[:,1:].values"
   ]
  },
  {
   "cell_type": "code",
   "execution_count": 54,
   "metadata": {},
   "outputs": [],
   "source": [
    "X_train_ts, X_test_ts, y_train_ts, y_test_ts = train_test_split(X_ts, y_ts, test_size = 0.2, random_state = 0)"
   ]
  },
  {
   "cell_type": "code",
   "execution_count": 55,
   "metadata": {},
   "outputs": [
    {
     "data": {
      "image/png": "[encoded data removed]",
      "text/plain": [
       "<Figure size 432x288 with 1 Axes>"
      ]
     },
     "metadata": {
      "needs_background": "light"
     },
     "output_type": "display_data"
    },
    {
     "name": "stdout",
     "output_type": "stream",
     "text": [
      "r2_score:  0.9994450501552746\n",
      "mean_squared_error:  1378882378.9099388\n",
      "root_mean_squared_error:  37133.30552091934\n",
      "explained_variance_score:  0.9994450665884956\n",
      "mean_absolute_error:  10145.302413470217\n"
     ]
    }
   ],
   "source": [
    "model_name = 'Linear Regression'\n",
    "from sklearn.linear_model import LinearRegression\n",
    "regressor = LinearRegression()\n",
    "regressor.fit(X_train_ts,y_train_ts)\n",
    "\n",
    "y_pred = regressor.predict(X_test_ts)\n",
    "\n",
    "plt.scatter(y_test_ts,y_pred)\n",
    "plt.title('Truth or Bluff (Linear Regression)')\n",
    "plt.xlabel('Real')\n",
    "plt.ylabel('Predicted')\n",
    "plt.show()\n",
    "scores(y_test_ts, y_pred)\n",
    "ts_preds[model_name] = [y_pred,y_test]"
   ]
  },
  {
   "cell_type": "code",
   "execution_count": 56,
   "metadata": {},
   "outputs": [
    {
     "data": {
      "image/png": "[encoded data removed]",
      "text/plain": [
       "<Figure size 432x288 with 1 Axes>"
      ]
     },
     "metadata": {
      "needs_background": "light"
     },
     "output_type": "display_data"
    },
    {
     "name": "stdout",
     "output_type": "stream",
     "text": [
      "r2_score:  0.9999673941040746\n",
      "mean_squared_error:  81015781.45724154\n",
      "root_mean_squared_error:  9000.87670492389\n",
      "explained_variance_score:  0.9999677678772529\n",
      "mean_absolute_error:  1452.6428811881187\n"
     ]
    }
   ],
   "source": [
    "#Fitting Regressor\n",
    "model_name = 'ran_for'\n",
    "from sklearn.ensemble import RandomForestRegressor\n",
    "regressor = RandomForestRegressor(n_estimators = 1000,random_state = 45)\n",
    "regressor.fit(X_train_ts,y_train_ts)\n",
    "\n",
    "y_pred = regressor.predict(X_test_ts)\n",
    "\n",
    "plt.scatter(y_test_ts,y_pred, color = 'blue')\n",
    "plt.title('Truth or Bluff (Random Forest Regression Model)')\n",
    "plt.xlabel('Real')\n",
    "plt.ylabel('Predicted')\n",
    "plt.show()\n",
    "scores(y_test_ts, y_pred)\n",
    "preds[model_name] = [y_pred,y_test_ts]"
   ]
  },
  {
   "cell_type": "markdown",
   "metadata": {},
   "source": [
    "# Final model for part 2\n",
    "- Random Forest is doing great for our purpose.\n",
    "- So we will use Random forest for predicting the Foreign Visitors in September for each city.\n",
    "- Then we will use them to predict Covid Cases in each City"
   ]
  },
  {
   "cell_type": "code",
   "execution_count": 57,
   "metadata": {},
   "outputs": [],
   "source": [
    "#Fitting Regressor\n",
    "from sklearn.ensemble import RandomForestRegressor\n",
    "regressor = RandomForestRegressor(n_estimators = 1000,random_state = 45)\n",
    "regressor.fit(X_ts,y_ts)\n",
    "y_final_ts = regressor.predict(Xtest_ts)"
   ]
  },
  {
   "cell_type": "markdown",
   "metadata": {},
   "source": [
    "## Now we will use the models from the Part1 to predict Covid Cases with the help of new data"
   ]
  },
  {
   "cell_type": "code",
   "execution_count": 58,
   "metadata": {},
   "outputs": [],
   "source": [
    "model_name = 'Linear Regression_essentials_final'\n",
    "regressor = models[model_name][0]\n",
    "Xtest_ts_2 = models[model_name][1]\n",
    "Xtest_ts_2[:,4] = y_final_ts\n",
    "y_pred_LR = regressor.predict(Xtest_ts_2)\n",
    "\n",
    "model_name = 'ran_for_essential_final'\n",
    "regressor = models[model_name][0]\n",
    "y_pred_ran = regressor.predict(Xtest_ts_2)\n",
    "\n",
    "#Ensembling\n",
    "y_pred_final = (y_pred_LR + y_pred_ran)/2"
   ]
  },
  {
   "cell_type": "markdown",
   "metadata": {},
   "source": [
    "# Saving the Resuls for Part 2"
   ]
  },
  {
   "cell_type": "code",
   "execution_count": 59,
   "metadata": {},
   "outputs": [],
   "source": [
    "y_final = []\n",
    "for i in range(len(city)):\n",
    "    y_final.append([city[i],y_pred_final[i]])\n",
    "pd.DataFrame(y_final, columns=['City','Covid Cases']).to_csv('Part2_predictions.csv',index = False)"
   ]
  }
 ],
 "metadata": {
  "kernelspec": {
   "display_name": "Python 3",
   "language": "python",
   "name": "python3"
  },
  "language_info": {
   "codemirror_mode": {
    "name": "ipython",
    "version": 3
   },
   "file_extension": ".py",
   "mimetype": "text/x-python",
   "name": "python",
   "nbconvert_exporter": "python",
   "pygments_lexer": "ipython3",
   "version": "3.7.6"
  }
 },
 "nbformat": 4,
 "nbformat_minor": 4
}
